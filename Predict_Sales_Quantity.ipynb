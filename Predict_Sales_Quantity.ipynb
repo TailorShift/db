{
 "cells": [
  {
   "cell_type": "markdown",
   "id": "a997910b-7a23-4d3f-9e17-9b6f1e6a0f4c",
   "metadata": {},
   "source": [
    "# Cleaned Code"
   ]
  },
  {
   "cell_type": "code",
   "execution_count": 63,
   "id": "fcbcabcc-3ec4-43b5-b96b-770aab44edef",
   "metadata": {},
   "outputs": [],
   "source": [
    "import sys"
   ]
  },
  {
   "cell_type": "code",
   "execution_count": 64,
   "id": "9d43cf53-3c84-4138-bcdd-859cf4af0c57",
   "metadata": {
    "tags": []
   },
   "outputs": [],
   "source": [
    "#!{sys.executable} -m pip install xgboost\n",
    "# !{sys.executable} -m pip install scikit-learn\n",
    "# !{sys.executable} -m pip install sqlalchemy\n",
    "# !{sys.executable} -m pip install psycopg2\n",
    "# !{sys.executable} -m pip install pandas\n",
    "# !{sys.executable} -m pip install numpy\n",
    "# !{sys.executable} -m pip install seaborn"
   ]
  },
  {
   "cell_type": "markdown",
   "id": "e0deeebc-a148-4932-8728-20c2cf4da2a3",
   "metadata": {},
   "source": [
    "## Imports"
   ]
  },
  {
   "cell_type": "code",
   "execution_count": 187,
   "id": "031557aa-bdfc-4323-a3bf-aa54e817e826",
   "metadata": {
    "tags": []
   },
   "outputs": [],
   "source": [
    "import pandas as pd\n",
    "import random\n",
    "import numpy as np\n",
    "import datetime\n",
    "import sys\n",
    "import math\n",
    "import seaborn as sb\n",
    "\n",
    "from sqlalchemy import create_engine, text, Column, Integer, Float, DateTime, String\n",
    "from sqlalchemy.orm import sessionmaker, declarative_base\n",
    "import psycopg2 as pg"
   ]
  },
  {
   "cell_type": "code",
   "execution_count": 144,
   "id": "c5dbead1-55b2-4d37-bc8b-48d3a79c399a",
   "metadata": {
    "tags": []
   },
   "outputs": [],
   "source": [
    "from sklearn.model_selection import train_test_split\n",
    "from sklearn.metrics import mean_absolute_error\n",
    "from sklearn.model_selection import RepeatedKFold, cross_val_score\n",
    "from numpy import absolute, asarray\n",
    "import xgboost as xgb\n",
    "from xgboost import XGBRegressor"
   ]
  },
  {
   "cell_type": "markdown",
   "id": "258b8e19-04d5-485f-b54b-8244931ee115",
   "metadata": {},
   "source": [
    "."
   ]
  },
  {
   "cell_type": "markdown",
   "id": "19daaf49-dfbd-4962-980c-97cdb521396f",
   "metadata": {},
   "source": [
    "## All Selects"
   ]
  },
  {
   "cell_type": "code",
   "execution_count": 145,
   "id": "f6bafd7b-3edf-4ae0-bb5f-8feeb6285da2",
   "metadata": {
    "tags": []
   },
   "outputs": [],
   "source": [
    "engine = create_engine('postgresql://pg-datacenter:Dua2h,i,JY>,,8)U<)aLIguz@pg-datacenter-primary.atos-development.svc:5432/pg-datacenter')"
   ]
  },
  {
   "cell_type": "code",
   "execution_count": 147,
   "id": "5f379f8f-cec2-49e9-8813-074d9eecdfab",
   "metadata": {
    "collapsed": true,
    "jupyter": {
     "outputs_hidden": true
    },
    "tags": []
   },
   "outputs": [
    {
     "name": "stderr",
     "output_type": "stream",
     "text": [
      "Exception during reset or similar\n",
      "Traceback (most recent call last):\n",
      "  File \"/opt/app-root/lib64/python3.8/site-packages/sqlalchemy/pool/base.py\", line 991, in _finalize_fairy\n",
      "    fairy._reset(\n",
      "  File \"/opt/app-root/lib64/python3.8/site-packages/sqlalchemy/pool/base.py\", line 1440, in _reset\n",
      "    pool._dialect.do_rollback(self)\n",
      "  File \"/opt/app-root/lib64/python3.8/site-packages/sqlalchemy/engine/default.py\", line 657, in do_rollback\n",
      "    dbapi_connection.rollback()\n",
      "psycopg2.errors.AdminShutdown: terminating connection due to administrator command\n",
      "SSL connection has been closed unexpectedly\n",
      "\n",
      "Exception during reset or similar\n",
      "Traceback (most recent call last):\n",
      "  File \"/opt/app-root/lib64/python3.8/site-packages/sqlalchemy/pool/base.py\", line 991, in _finalize_fairy\n",
      "    fairy._reset(\n",
      "  File \"/opt/app-root/lib64/python3.8/site-packages/sqlalchemy/pool/base.py\", line 1440, in _reset\n",
      "    pool._dialect.do_rollback(self)\n",
      "  File \"/opt/app-root/lib64/python3.8/site-packages/sqlalchemy/engine/default.py\", line 657, in do_rollback\n",
      "    dbapi_connection.rollback()\n",
      "psycopg2.errors.AdminShutdown: terminating connection due to administrator command\n",
      "SSL connection has been closed unexpectedly\n",
      "\n",
      "Exception during reset or similar\n",
      "Traceback (most recent call last):\n",
      "  File \"/opt/app-root/lib64/python3.8/site-packages/sqlalchemy/pool/base.py\", line 991, in _finalize_fairy\n",
      "    fairy._reset(\n",
      "  File \"/opt/app-root/lib64/python3.8/site-packages/sqlalchemy/pool/base.py\", line 1440, in _reset\n",
      "    pool._dialect.do_rollback(self)\n",
      "  File \"/opt/app-root/lib64/python3.8/site-packages/sqlalchemy/engine/default.py\", line 657, in do_rollback\n",
      "    dbapi_connection.rollback()\n",
      "psycopg2.errors.AdminShutdown: terminating connection due to administrator command\n",
      "SSL connection has been closed unexpectedly\n",
      "\n"
     ]
    }
   ],
   "source": [
    "products_df = pd.DataFrame(engine.connect().execute(text('select * from products;')), columns = ['id', 'manufacturer', 'name', 'code', 'colors', 'price', 'tax_rate'])\n",
    "shops_df = pd.DataFrame(engine.connect().execute(text('select * from shops;')), columns = ['id', 'city', 'postcode', 'street_1', 'street_2', 'iot_certificate'])\n",
    "pos_devices_df = pd.DataFrame(engine.connect().execute(text('select * from pos_devices;')), columns = ['id', 'shop_id', 'serial', 'iot_certificate'])\n",
    "employees_df = pd.DataFrame(engine.connect().execute(text('select * from employees;')), columns = ['id', 'primary_shop_id', 'name', 'card_id'])\n",
    "customers_df = pd.DataFrame(engine.connect().execute(text('select * from customers;')), columns = ['id', 'name', 'card_id', 'street_1', 'street_2', 'postcode', 'city', 'discount'])\n",
    "receipts_df = pd.DataFrame(engine.connect().execute(text('select * from receipts;')), columns = ['id', 'shop_id', 'pos_device_id', 'customer_id', 'created_at',\n",
    "                                                                                                 'discount_total', 'tax_total', 'amount_total', 'employee_id','delivery_shop_id'])\n",
    "receipt_positions_df = pd.DataFrame(engine.connect().execute(text('select * from receipt_positions;')), columns = ['id', 'receipt_id', 'position', 'product_id', 'size', 'color',\n",
    "                                                                                                                   'quantity', 'price', 'discount', 'discount_reason', 'tax_rate'])\n",
    "weekly_forecast_df = pd.DataFrame(engine.connect().execute(text('select * from weekly_forecast;')))\n",
    "daily_forecast_df = pd.DataFrame(engine.connect().execute(text('select * from daily_forecast;')))"
   ]
  },
  {
   "cell_type": "markdown",
   "id": "d9c2cf89-c24d-4bbd-b845-2af8533db4d7",
   "metadata": {},
   "source": [
    "."
   ]
  },
  {
   "cell_type": "markdown",
   "id": "b3816a13-6861-43e8-ba0e-26d29bc154cd",
   "metadata": {},
   "source": [
    "## Create Receipt_DF with quantity join of quantity column"
   ]
  },
  {
   "cell_type": "code",
   "execution_count": 151,
   "id": "6359076d-00f3-403f-b5ea-138248a1e443",
   "metadata": {},
   "outputs": [],
   "source": [
    "def create_quantity_list():\n",
    "    all_receipt_ids = list(receipts_df.id.values)\n",
    "    quantities = []\n",
    "    \n",
    "    for rec_id in all_receipt_ids:\n",
    "        cur_df = receipt_positions_df[receipt_positions_df[\"receipt_id\"]==rec_id]\n",
    "        sold_amount = sum(list(cur_df.quantity.values))\n",
    "        quantities.append(sold_amount)\n",
    "    \n",
    "    return quantities"
   ]
  },
  {
   "cell_type": "code",
   "execution_count": 152,
   "id": "7f637b87-10eb-48d2-9061-b146e19574d6",
   "metadata": {},
   "outputs": [],
   "source": [
    "with_quantity_df = receipts_df\n",
    "with_quantity_df[\"quantities\"] = create_quantity_list"
   ]
  },
  {
   "cell_type": "markdown",
   "id": "fc997dac-bb90-45ca-b135-8705f8a07d43",
   "metadata": {},
   "source": [
    "."
   ]
  },
  {
   "cell_type": "markdown",
   "id": "8de35996-2b0b-4213-b83a-fa05eecc24e6",
   "metadata": {},
   "source": [
    "## Create DF that joins receipts and receipt_positions and reduces to relevant columns"
   ]
  },
  {
   "cell_type": "code",
   "execution_count": 153,
   "id": "87658f2e-68f6-4f36-9db5-a62457cdf9af",
   "metadata": {},
   "outputs": [],
   "source": [
    "relevant_receipt_cols = receipts_df[[\"id\", \"created_at\", \"customer_id\", \"employee_id\", \"shop_id\"]]"
   ]
  },
  {
   "cell_type": "code",
   "execution_count": 154,
   "id": "020a6f2b-08b7-45c5-a02e-ae5c0eb2326e",
   "metadata": {},
   "outputs": [],
   "source": [
    "merged_df = pd.merge(receipt_positions_df, relevant_receipt_cols, left_on='receipt_id', right_on='id')"
   ]
  },
  {
   "cell_type": "code",
   "execution_count": 155,
   "id": "72d2660e-02ca-4eb6-be9a-f5d8c51054bf",
   "metadata": {},
   "outputs": [],
   "source": [
    "all_data_df = merged_df.drop(columns = [\"id_x\", \"id_y\", \"position\", \"tax_rate\", \"receipt_id\"])"
   ]
  },
  {
   "cell_type": "markdown",
   "id": "f86ade89-000b-41db-bc43-9aa3f345d2c6",
   "metadata": {},
   "source": [
    "."
   ]
  },
  {
   "cell_type": "markdown",
   "id": "528d5195-18b5-49fb-88d9-a68344c2c287",
   "metadata": {},
   "source": [
    "## Create different date features from the Timestamp"
   ]
  },
  {
   "cell_type": "code",
   "execution_count": 156,
   "id": "62273572-7fa5-4613-9761-69cbc4769716",
   "metadata": {},
   "outputs": [],
   "source": [
    "def date_features(pdf):\n",
    "    df = pdf\n",
    "    # Date Features\n",
    "    df['date'] = pd.to_datetime(df['created_at'])\n",
    "    df['year'] = df.date.dt.year\n",
    "    df['month'] = df.date.dt.month\n",
    "    df['day'] = df.date.dt.day\n",
    "    df['dayofyear'] = df.date.dt.dayofyear\n",
    "    df['dayofweek'] = df.date.dt.isocalendar().day\n",
    "    df['weekofyear'] = df.date.dt.isocalendar().week\n",
    "    df['hourofday'] = df.date.dt.hour\n",
    "    \n",
    "    # Additionnal Data Features\n",
    "    df['day^year'] = np.log((np.log(df['dayofyear'] + 1)) ** (df['year'] - 2000))\n",
    "    \n",
    "    # Drop date\n",
    "    df.drop('date', axis=1, inplace=True)\n",
    "    \n",
    "    return df"
   ]
  },
  {
   "cell_type": "code",
   "execution_count": 157,
   "id": "bfbd27c4-08b6-436f-a297-65da683a318f",
   "metadata": {},
   "outputs": [],
   "source": [
    "with_date_features_df = date_features(all_data_df)"
   ]
  },
  {
   "cell_type": "markdown",
   "id": "ec4bb1ce-0b48-4e0c-ade6-9a6734782206",
   "metadata": {},
   "source": [
    "."
   ]
  },
  {
   "cell_type": "markdown",
   "id": "e9775f79-c19f-4b32-9320-58f8f944a269",
   "metadata": {},
   "source": [
    "## Check Relevance of each feature"
   ]
  },
  {
   "cell_type": "code",
   "execution_count": 158,
   "id": "148573a5-0390-4fa6-95ee-83679747385a",
   "metadata": {},
   "outputs": [
    {
     "data": {
      "text/plain": [
       "<AxesSubplot:>"
      ]
     },
     "execution_count": 158,
     "metadata": {},
     "output_type": "execute_result"
    },
    {
     "data": {
      "image/png": "[encoded data removed]",
      "text/plain": [
       "<Figure size 1224x648 with 2 Axes>"
      ]
     },
     "metadata": {},
     "output_type": "display_data"
    }
   ],
   "source": [
    "sb.set(rc={'figure.figsize':(17,9)})\n",
    "corr = with_date_features_df.corr()\n",
    "sb.heatmap(corr, cmap=\"Blues\", annot=True)"
   ]
  },
  {
   "cell_type": "markdown",
   "id": "b698569f-d501-4bb0-97b2-3729a67b1c6f",
   "metadata": {},
   "source": [
    "."
   ]
  },
  {
   "cell_type": "markdown",
   "id": "0c241dc8-2db5-4dd4-b3fd-41c3e1264106",
   "metadata": {},
   "source": [
    "## Remove irrelevant features"
   ]
  },
  {
   "cell_type": "markdown",
   "id": "63817329-d10f-4d69-a7cc-0e2c426a9081",
   "metadata": {},
   "source": [
    "#### These features would usually be very relevant. But because this data is generated randomly there are no underlying patterns between different customers, shops or product categories"
   ]
  },
  {
   "cell_type": "code",
   "execution_count": 159,
   "id": "29c220d7-9d4d-4f75-8700-58e39bceaaf2",
   "metadata": {},
   "outputs": [],
   "source": [
    "relevant_df = with_date_features_df.drop(columns = [\"size\", \"color\", \"discount\", \"discount_reason\", \"customer_id\", \"employee_id\", \"shop_id\"])"
   ]
  },
  {
   "cell_type": "markdown",
   "id": "8da7a559-f9b3-48a2-8ea4-7f844f7a4b12",
   "metadata": {},
   "source": [
    "."
   ]
  },
  {
   "cell_type": "markdown",
   "id": "ec279ec0-b0a0-49bd-81cb-a766e2d8ab79",
   "metadata": {},
   "source": [
    "## Creating more different datetime feature that could improve the model"
   ]
  },
  {
   "cell_type": "code",
   "execution_count": 160,
   "id": "e58b9829-7451-4ce2-b7ac-c92fdfe192b9",
   "metadata": {},
   "outputs": [],
   "source": [
    "relevant_df['hourly_avg']  = relevant_df.groupby(['product_id','hourofday'])['quantity'].transform('mean')\n",
    "relevant_df['daily_avg']  = relevant_df.groupby(['product_id','dayofweek'])['quantity'].transform('mean')\n",
    "relevant_df['monthly_avg'] = relevant_df.groupby(['product_id','month'])['quantity'].transform('mean')"
   ]
  },
  {
   "cell_type": "code",
   "execution_count": 161,
   "id": "086c105c-4634-41f9-98e9-cef7173e63cd",
   "metadata": {},
   "outputs": [],
   "source": [
    "relevant_df['hourly_sum']  = relevant_df.groupby(['product_id','hourofday'])['quantity'].transform('sum') # wie oft wurde das Produkt insgesamt in der jeweiligen Stunde gekauft\n",
    "relevant_df['daily_sum']  = relevant_df.groupby(['product_id','dayofweek'])['quantity'].transform('sum')\n",
    "relevant_df['monthly_sum'] = relevant_df.groupby(['product_id','month'])['quantity'].transform('sum')"
   ]
  },
  {
   "cell_type": "markdown",
   "id": "3073cea3-0e78-42b0-bbd5-5cca0ac60e2d",
   "metadata": {},
   "source": [
    "#### All Sales of product_id=1 in the 11th hourofday"
   ]
  },
  {
   "cell_type": "markdown",
   "id": "1ba920a9-6788-4462-974a-02768f839a7f",
   "metadata": {},
   "source": [
    "#### This shows bias of avg_values --> Hourly Average of 1,6 implies that the product 1 will be bought 1,6 every single day in the 11th hour. But this is wrong as there are many days where product 1 was not bought in the 11th hour, but these do not occurr in the data which causes this bias. Because of this, these avg and sum features are omitted."
   ]
  },
  {
   "cell_type": "code",
   "execution_count": 162,
   "id": "c7f96602-4782-4a1d-b28c-a83aab6a26db",
   "metadata": {},
   "outputs": [
    {
     "data": {
      "text/html": [
       "<div>\n",
       "<style scoped>\n",
       "    .dataframe tbody tr th:only-of-type {\n",
       "        vertical-align: middle;\n",
       "    }\n",
       "\n",
       "    .dataframe tbody tr th {\n",
       "        vertical-align: top;\n",
       "    }\n",
       "\n",
       "    .dataframe thead th {\n",
       "        text-align: right;\n",
       "    }\n",
       "</style>\n",
       "<table border=\"1\" class=\"dataframe\">\n",
       "  <thead>\n",
       "    <tr style=\"text-align: right;\">\n",
       "      <th></th>\n",
       "      <th>product_id</th>\n",
       "      <th>quantity</th>\n",
       "      <th>price</th>\n",
       "      <th>created_at</th>\n",
       "      <th>year</th>\n",
       "      <th>month</th>\n",
       "      <th>day</th>\n",
       "      <th>dayofyear</th>\n",
       "      <th>dayofweek</th>\n",
       "      <th>weekofyear</th>\n",
       "      <th>hourofday</th>\n",
       "      <th>day^year</th>\n",
       "      <th>hourly_avg</th>\n",
       "      <th>daily_avg</th>\n",
       "      <th>monthly_avg</th>\n",
       "      <th>hourly_sum</th>\n",
       "      <th>daily_sum</th>\n",
       "      <th>monthly_sum</th>\n",
       "    </tr>\n",
       "  </thead>\n",
       "  <tbody>\n",
       "    <tr>\n",
       "      <th>210</th>\n",
       "      <td>1</td>\n",
       "      <td>2</td>\n",
       "      <td>199.98</td>\n",
       "      <td>2023-01-10 11:07:02</td>\n",
       "      <td>2023</td>\n",
       "      <td>1</td>\n",
       "      <td>10</td>\n",
       "      <td>10</td>\n",
       "      <td>2</td>\n",
       "      <td>2</td>\n",
       "      <td>11</td>\n",
       "      <td>20.115602</td>\n",
       "      <td>1.666667</td>\n",
       "      <td>1.444444</td>\n",
       "      <td>1.352941</td>\n",
       "      <td>5</td>\n",
       "      <td>13</td>\n",
       "      <td>23</td>\n",
       "    </tr>\n",
       "    <tr>\n",
       "      <th>6085</th>\n",
       "      <td>1</td>\n",
       "      <td>2</td>\n",
       "      <td>199.98</td>\n",
       "      <td>2023-01-27 11:14:16</td>\n",
       "      <td>2023</td>\n",
       "      <td>1</td>\n",
       "      <td>27</td>\n",
       "      <td>27</td>\n",
       "      <td>5</td>\n",
       "      <td>4</td>\n",
       "      <td>11</td>\n",
       "      <td>27.683584</td>\n",
       "      <td>1.666667</td>\n",
       "      <td>1.600000</td>\n",
       "      <td>1.352941</td>\n",
       "      <td>5</td>\n",
       "      <td>16</td>\n",
       "      <td>23</td>\n",
       "    </tr>\n",
       "    <tr>\n",
       "      <th>8043</th>\n",
       "      <td>1</td>\n",
       "      <td>1</td>\n",
       "      <td>99.99</td>\n",
       "      <td>2023-04-05 11:52:32</td>\n",
       "      <td>2023</td>\n",
       "      <td>4</td>\n",
       "      <td>5</td>\n",
       "      <td>95</td>\n",
       "      <td>3</td>\n",
       "      <td>14</td>\n",
       "      <td>11</td>\n",
       "      <td>34.920342</td>\n",
       "      <td>1.666667</td>\n",
       "      <td>1.000000</td>\n",
       "      <td>1.000000</td>\n",
       "      <td>5</td>\n",
       "      <td>4</td>\n",
       "      <td>4</td>\n",
       "    </tr>\n",
       "  </tbody>\n",
       "</table>\n",
       "</div>"
      ],
      "text/plain": [
       "      product_id  quantity   price          created_at  year  month  day  \\\n",
       "210            1         2  199.98 2023-01-10 11:07:02  2023      1   10   \n",
       "6085           1         2  199.98 2023-01-27 11:14:16  2023      1   27   \n",
       "8043           1         1   99.99 2023-04-05 11:52:32  2023      4    5   \n",
       "\n",
       "      dayofyear  dayofweek  weekofyear  hourofday   day^year  hourly_avg  \\\n",
       "210          10          2           2         11  20.115602    1.666667   \n",
       "6085         27          5           4         11  27.683584    1.666667   \n",
       "8043         95          3          14         11  34.920342    1.666667   \n",
       "\n",
       "      daily_avg  monthly_avg  hourly_sum  daily_sum  monthly_sum  \n",
       "210    1.444444     1.352941           5         13           23  \n",
       "6085   1.600000     1.352941           5         16           23  \n",
       "8043   1.000000     1.000000           5          4            4  "
      ]
     },
     "execution_count": 162,
     "metadata": {},
     "output_type": "execute_result"
    }
   ],
   "source": [
    "relevant_df.groupby(['product_id']).get_group(1).groupby(['hourofday']).get_group(11)"
   ]
  },
  {
   "cell_type": "markdown",
   "id": "72f7b1f0-c3c7-4ec5-accf-2083fe20947e",
   "metadata": {},
   "source": [
    "."
   ]
  },
  {
   "cell_type": "markdown",
   "id": "bff13f00-1b78-4fa0-849e-530468aa2153",
   "metadata": {},
   "source": [
    "## Remove redundant date features (redundant according to correlation)"
   ]
  },
  {
   "cell_type": "code",
   "execution_count": 163,
   "id": "6da026c0-0090-41e2-8f59-92ba500d2b3a",
   "metadata": {},
   "outputs": [],
   "source": [
    "cleaned_relevant_df = relevant_df.drop([\"month\",\"dayofyear\",\"weekofyear\", \"day^year\", \"created_at\"], axis=1)"
   ]
  },
  {
   "cell_type": "markdown",
   "id": "a180f3f8-f22e-4b03-8f54-01724a76fa5e",
   "metadata": {},
   "source": [
    "# Create realistic Test Data"
   ]
  },
  {
   "cell_type": "markdown",
   "id": "11b695b6-e861-4943-a819-06f0239fdd4b",
   "metadata": {},
   "source": [
    "#### forecast one week from Monday to Saturday"
   ]
  },
  {
   "cell_type": "code",
   "execution_count": 164,
   "id": "28a4cf73-00bf-46a7-9dce-bba72e869228",
   "metadata": {},
   "outputs": [],
   "source": [
    "day_1 = pd.to_datetime(\"2023-04-10\")\n",
    "day_2 = pd.to_datetime(\"2023-04-11\")\n",
    "day_3 = pd.to_datetime(\"2023-04-12\")\n",
    "day_4 = pd.to_datetime(\"2023-04-13\")\n",
    "day_5 = pd.to_datetime(\"2023-04-14\")\n",
    "day_6 = pd.to_datetime(\"2023-04-15\")"
   ]
  },
  {
   "cell_type": "code",
   "execution_count": 165,
   "id": "f38eee69-f409-4276-a630-4cff8c18ff8f",
   "metadata": {},
   "outputs": [],
   "source": [
    "prediction_days = [day_1, day_2, day_3, day_4, day_5, day_6]"
   ]
  },
  {
   "cell_type": "code",
   "execution_count": 166,
   "id": "13bfb2b5-fe85-4865-87e6-662b66c6814b",
   "metadata": {},
   "outputs": [],
   "source": [
    "date_values = []\n",
    "\n",
    "for date in prediction_days:\n",
    "    month = date.month\n",
    "    day = date.day\n",
    "    dayofweek = date.dayofweek + 1\n",
    "    \n",
    "    date_values.append([month, day, dayofweek])"
   ]
  },
  {
   "cell_type": "code",
   "execution_count": 167,
   "id": "429f1674-56de-4040-9413-e5ed81153067",
   "metadata": {},
   "outputs": [],
   "source": [
    "row_values = []\n",
    "\n",
    "for prod_id in list(products_df.id.values):\n",
    "    for col in date_values:\n",
    "        row_values.append([prod_id, col[0], col[1], col[2]])"
   ]
  },
  {
   "cell_type": "code",
   "execution_count": 168,
   "id": "c124953a-cc13-40c1-b50b-39d2af400fed",
   "metadata": {},
   "outputs": [
    {
     "data": {
      "text/html": [
       "<div>\n",
       "<style scoped>\n",
       "    .dataframe tbody tr th:only-of-type {\n",
       "        vertical-align: middle;\n",
       "    }\n",
       "\n",
       "    .dataframe tbody tr th {\n",
       "        vertical-align: top;\n",
       "    }\n",
       "\n",
       "    .dataframe thead th {\n",
       "        text-align: right;\n",
       "    }\n",
       "</style>\n",
       "<table border=\"1\" class=\"dataframe\">\n",
       "  <thead>\n",
       "    <tr style=\"text-align: right;\">\n",
       "      <th></th>\n",
       "      <th>product_id</th>\n",
       "      <th>month</th>\n",
       "      <th>day</th>\n",
       "      <th>dayofweek</th>\n",
       "    </tr>\n",
       "  </thead>\n",
       "  <tbody>\n",
       "    <tr>\n",
       "      <th>0</th>\n",
       "      <td>1</td>\n",
       "      <td>4</td>\n",
       "      <td>10</td>\n",
       "      <td>1</td>\n",
       "    </tr>\n",
       "    <tr>\n",
       "      <th>1</th>\n",
       "      <td>1</td>\n",
       "      <td>4</td>\n",
       "      <td>11</td>\n",
       "      <td>2</td>\n",
       "    </tr>\n",
       "    <tr>\n",
       "      <th>2</th>\n",
       "      <td>1</td>\n",
       "      <td>4</td>\n",
       "      <td>12</td>\n",
       "      <td>3</td>\n",
       "    </tr>\n",
       "    <tr>\n",
       "      <th>3</th>\n",
       "      <td>1</td>\n",
       "      <td>4</td>\n",
       "      <td>13</td>\n",
       "      <td>4</td>\n",
       "    </tr>\n",
       "    <tr>\n",
       "      <th>4</th>\n",
       "      <td>1</td>\n",
       "      <td>4</td>\n",
       "      <td>14</td>\n",
       "      <td>5</td>\n",
       "    </tr>\n",
       "    <tr>\n",
       "      <th>...</th>\n",
       "      <td>...</td>\n",
       "      <td>...</td>\n",
       "      <td>...</td>\n",
       "      <td>...</td>\n",
       "    </tr>\n",
       "    <tr>\n",
       "      <th>1033</th>\n",
       "      <td>173</td>\n",
       "      <td>4</td>\n",
       "      <td>11</td>\n",
       "      <td>2</td>\n",
       "    </tr>\n",
       "    <tr>\n",
       "      <th>1034</th>\n",
       "      <td>173</td>\n",
       "      <td>4</td>\n",
       "      <td>12</td>\n",
       "      <td>3</td>\n",
       "    </tr>\n",
       "    <tr>\n",
       "      <th>1035</th>\n",
       "      <td>173</td>\n",
       "      <td>4</td>\n",
       "      <td>13</td>\n",
       "      <td>4</td>\n",
       "    </tr>\n",
       "    <tr>\n",
       "      <th>1036</th>\n",
       "      <td>173</td>\n",
       "      <td>4</td>\n",
       "      <td>14</td>\n",
       "      <td>5</td>\n",
       "    </tr>\n",
       "    <tr>\n",
       "      <th>1037</th>\n",
       "      <td>173</td>\n",
       "      <td>4</td>\n",
       "      <td>15</td>\n",
       "      <td>6</td>\n",
       "    </tr>\n",
       "  </tbody>\n",
       "</table>\n",
       "<p>1038 rows × 4 columns</p>\n",
       "</div>"
      ],
      "text/plain": [
       "      product_id  month  day  dayofweek\n",
       "0              1      4   10          1\n",
       "1              1      4   11          2\n",
       "2              1      4   12          3\n",
       "3              1      4   13          4\n",
       "4              1      4   14          5\n",
       "...          ...    ...  ...        ...\n",
       "1033         173      4   11          2\n",
       "1034         173      4   12          3\n",
       "1035         173      4   13          4\n",
       "1036         173      4   14          5\n",
       "1037         173      4   15          6\n",
       "\n",
       "[1038 rows x 4 columns]"
      ]
     },
     "execution_count": 168,
     "metadata": {},
     "output_type": "execute_result"
    }
   ],
   "source": [
    "test_data = pd.DataFrame(row_values, columns = [\"product_id\", \"month\", \"day\", \"dayofweek\"])\n",
    "test_data"
   ]
  },
  {
   "cell_type": "markdown",
   "id": "b4ee552d-2c21-4162-bf7f-789eb3c51f33",
   "metadata": {},
   "source": [
    "."
   ]
  },
  {
   "cell_type": "markdown",
   "id": "ccc60d7d-dc27-43be-b224-77363fcb6e61",
   "metadata": {},
   "source": [
    "## Create Train Data in the format of the given test data"
   ]
  },
  {
   "cell_type": "code",
   "execution_count": 172,
   "id": "ae1a931f-00fc-4260-b6fb-79c4367bae82",
   "metadata": {},
   "outputs": [],
   "source": [
    "train_data = relevant_df.drop(columns = [\"price\",\"created_at\",\"year\",\"dayofyear\",\"weekofyear\",\"hourofday\",\"day^year\"])"
   ]
  },
  {
   "cell_type": "code",
   "execution_count": 173,
   "id": "af163092-4b9e-4f57-a1bc-35cd5d1299fb",
   "metadata": {},
   "outputs": [],
   "source": [
    "label = list(train_data.quantity.values)"
   ]
  },
  {
   "cell_type": "code",
   "execution_count": 257,
   "id": "6f63e998-eaaa-46b0-8bb8-cc94f0b4f741",
   "metadata": {},
   "outputs": [
    {
     "data": {
      "text/html": [
       "<div>\n",
       "<style scoped>\n",
       "    .dataframe tbody tr th:only-of-type {\n",
       "        vertical-align: middle;\n",
       "    }\n",
       "\n",
       "    .dataframe tbody tr th {\n",
       "        vertical-align: top;\n",
       "    }\n",
       "\n",
       "    .dataframe thead th {\n",
       "        text-align: right;\n",
       "    }\n",
       "</style>\n",
       "<table border=\"1\" class=\"dataframe\">\n",
       "  <thead>\n",
       "    <tr style=\"text-align: right;\">\n",
       "      <th></th>\n",
       "      <th>product_id</th>\n",
       "      <th>quantity</th>\n",
       "      <th>month</th>\n",
       "      <th>day</th>\n",
       "      <th>dayofweek</th>\n",
       "      <th>hourly_avg</th>\n",
       "      <th>daily_avg</th>\n",
       "      <th>monthly_avg</th>\n",
       "      <th>hourly_sum</th>\n",
       "      <th>daily_sum</th>\n",
       "      <th>monthly_sum</th>\n",
       "    </tr>\n",
       "  </thead>\n",
       "  <tbody>\n",
       "    <tr>\n",
       "      <th>0</th>\n",
       "      <td>153</td>\n",
       "      <td>1</td>\n",
       "      <td>2</td>\n",
       "      <td>25</td>\n",
       "      <td>6</td>\n",
       "      <td>1.714286</td>\n",
       "      <td>1.277778</td>\n",
       "      <td>1.818182</td>\n",
       "      <td>12</td>\n",
       "      <td>23</td>\n",
       "      <td>20</td>\n",
       "    </tr>\n",
       "    <tr>\n",
       "      <th>1</th>\n",
       "      <td>44</td>\n",
       "      <td>2</td>\n",
       "      <td>2</td>\n",
       "      <td>25</td>\n",
       "      <td>6</td>\n",
       "      <td>1.571429</td>\n",
       "      <td>1.800000</td>\n",
       "      <td>1.437500</td>\n",
       "      <td>11</td>\n",
       "      <td>27</td>\n",
       "      <td>23</td>\n",
       "    </tr>\n",
       "    <tr>\n",
       "      <th>2</th>\n",
       "      <td>66</td>\n",
       "      <td>3</td>\n",
       "      <td>1</td>\n",
       "      <td>11</td>\n",
       "      <td>3</td>\n",
       "      <td>1.571429</td>\n",
       "      <td>1.857143</td>\n",
       "      <td>1.318182</td>\n",
       "      <td>11</td>\n",
       "      <td>13</td>\n",
       "      <td>29</td>\n",
       "    </tr>\n",
       "    <tr>\n",
       "      <th>3</th>\n",
       "      <td>17</td>\n",
       "      <td>2</td>\n",
       "      <td>1</td>\n",
       "      <td>11</td>\n",
       "      <td>3</td>\n",
       "      <td>1.600000</td>\n",
       "      <td>3.500000</td>\n",
       "      <td>1.705882</td>\n",
       "      <td>16</td>\n",
       "      <td>7</td>\n",
       "      <td>29</td>\n",
       "    </tr>\n",
       "    <tr>\n",
       "      <th>4</th>\n",
       "      <td>132</td>\n",
       "      <td>2</td>\n",
       "      <td>1</td>\n",
       "      <td>11</td>\n",
       "      <td>3</td>\n",
       "      <td>1.400000</td>\n",
       "      <td>1.454545</td>\n",
       "      <td>1.411765</td>\n",
       "      <td>7</td>\n",
       "      <td>16</td>\n",
       "      <td>24</td>\n",
       "    </tr>\n",
       "    <tr>\n",
       "      <th>...</th>\n",
       "      <td>...</td>\n",
       "      <td>...</td>\n",
       "      <td>...</td>\n",
       "      <td>...</td>\n",
       "      <td>...</td>\n",
       "      <td>...</td>\n",
       "      <td>...</td>\n",
       "      <td>...</td>\n",
       "      <td>...</td>\n",
       "      <td>...</td>\n",
       "      <td>...</td>\n",
       "    </tr>\n",
       "    <tr>\n",
       "      <th>9995</th>\n",
       "      <td>72</td>\n",
       "      <td>5</td>\n",
       "      <td>1</td>\n",
       "      <td>3</td>\n",
       "      <td>2</td>\n",
       "      <td>1.800000</td>\n",
       "      <td>1.700000</td>\n",
       "      <td>1.695652</td>\n",
       "      <td>27</td>\n",
       "      <td>17</td>\n",
       "      <td>39</td>\n",
       "    </tr>\n",
       "    <tr>\n",
       "      <th>9996</th>\n",
       "      <td>81</td>\n",
       "      <td>1</td>\n",
       "      <td>1</td>\n",
       "      <td>3</td>\n",
       "      <td>2</td>\n",
       "      <td>1.500000</td>\n",
       "      <td>1.142857</td>\n",
       "      <td>1.592593</td>\n",
       "      <td>15</td>\n",
       "      <td>8</td>\n",
       "      <td>43</td>\n",
       "    </tr>\n",
       "    <tr>\n",
       "      <th>9997</th>\n",
       "      <td>172</td>\n",
       "      <td>1</td>\n",
       "      <td>2</td>\n",
       "      <td>11</td>\n",
       "      <td>6</td>\n",
       "      <td>1.857143</td>\n",
       "      <td>1.500000</td>\n",
       "      <td>1.541667</td>\n",
       "      <td>26</td>\n",
       "      <td>27</td>\n",
       "      <td>37</td>\n",
       "    </tr>\n",
       "    <tr>\n",
       "      <th>9998</th>\n",
       "      <td>140</td>\n",
       "      <td>1</td>\n",
       "      <td>2</td>\n",
       "      <td>11</td>\n",
       "      <td>6</td>\n",
       "      <td>1.500000</td>\n",
       "      <td>1.333333</td>\n",
       "      <td>1.421053</td>\n",
       "      <td>18</td>\n",
       "      <td>24</td>\n",
       "      <td>27</td>\n",
       "    </tr>\n",
       "    <tr>\n",
       "      <th>9999</th>\n",
       "      <td>168</td>\n",
       "      <td>1</td>\n",
       "      <td>2</td>\n",
       "      <td>11</td>\n",
       "      <td>6</td>\n",
       "      <td>1.800000</td>\n",
       "      <td>1.565217</td>\n",
       "      <td>1.434783</td>\n",
       "      <td>18</td>\n",
       "      <td>36</td>\n",
       "      <td>33</td>\n",
       "    </tr>\n",
       "  </tbody>\n",
       "</table>\n",
       "<p>10000 rows × 11 columns</p>\n",
       "</div>"
      ],
      "text/plain": [
       "      product_id  quantity  month  day  dayofweek  hourly_avg  daily_avg  \\\n",
       "0            153         1      2   25          6    1.714286   1.277778   \n",
       "1             44         2      2   25          6    1.571429   1.800000   \n",
       "2             66         3      1   11          3    1.571429   1.857143   \n",
       "3             17         2      1   11          3    1.600000   3.500000   \n",
       "4            132         2      1   11          3    1.400000   1.454545   \n",
       "...          ...       ...    ...  ...        ...         ...        ...   \n",
       "9995          72         5      1    3          2    1.800000   1.700000   \n",
       "9996          81         1      1    3          2    1.500000   1.142857   \n",
       "9997         172         1      2   11          6    1.857143   1.500000   \n",
       "9998         140         1      2   11          6    1.500000   1.333333   \n",
       "9999         168         1      2   11          6    1.800000   1.565217   \n",
       "\n",
       "      monthly_avg  hourly_sum  daily_sum  monthly_sum  \n",
       "0        1.818182          12         23           20  \n",
       "1        1.437500          11         27           23  \n",
       "2        1.318182          11         13           29  \n",
       "3        1.705882          16          7           29  \n",
       "4        1.411765           7         16           24  \n",
       "...           ...         ...        ...          ...  \n",
       "9995     1.695652          27         17           39  \n",
       "9996     1.592593          15          8           43  \n",
       "9997     1.541667          26         27           37  \n",
       "9998     1.421053          18         24           27  \n",
       "9999     1.434783          18         36           33  \n",
       "\n",
       "[10000 rows x 11 columns]"
      ]
     },
     "execution_count": 257,
     "metadata": {},
     "output_type": "execute_result"
    }
   ],
   "source": [
    "train_data"
   ]
  },
  {
   "cell_type": "markdown",
   "id": "d84b9236-cf3e-4c44-83e7-a9dbec804029",
   "metadata": {},
   "source": [
    "## Configuring the model"
   ]
  },
  {
   "cell_type": "code",
   "execution_count": 175,
   "id": "7b74e0d4-1df4-4d2e-a84a-ab7399ffd9b6",
   "metadata": {},
   "outputs": [],
   "source": [
    "model = XGBRegressor(n_estimators=1000, max_depth=6, eta=0.1, subsample=0.7, colsample_bytree=0.8)"
   ]
  },
  {
   "cell_type": "markdown",
   "id": "e03a961d-edda-4a92-9650-0ff193d3258d",
   "metadata": {},
   "source": [
    "#### As explained omitting the newly generated avg and sum Spalten"
   ]
  },
  {
   "cell_type": "code",
   "execution_count": 176,
   "id": "da7def16-cae5-4d39-a861-feedac018b2c",
   "metadata": {},
   "outputs": [],
   "source": [
    "X, y = train_data.values[:,[0,2,3,4]], train_data.values[:,1]"
   ]
  },
  {
   "cell_type": "code",
   "execution_count": 177,
   "id": "46b6e432-7a82-47a3-a02e-f1002e782dde",
   "metadata": {},
   "outputs": [
    {
     "data": {
      "text/plain": [
       "array([[153, 2, 25, 6],\n",
       "       [44, 2, 25, 6],\n",
       "       [66, 1, 11, 3],\n",
       "       ...,\n",
       "       [172, 2, 11, 6],\n",
       "       [140, 2, 11, 6],\n",
       "       [168, 2, 11, 6]], dtype=object)"
      ]
     },
     "execution_count": 177,
     "metadata": {},
     "output_type": "execute_result"
    }
   ],
   "source": [
    "X"
   ]
  },
  {
   "cell_type": "code",
   "execution_count": 178,
   "id": "2f4b4e11-d465-466a-a215-85a86b90e929",
   "metadata": {},
   "outputs": [
    {
     "data": {
      "text/plain": [
       "array([1, 2, 3, ..., 1, 1, 1], dtype=object)"
      ]
     },
     "execution_count": 178,
     "metadata": {},
     "output_type": "execute_result"
    }
   ],
   "source": [
    "y"
   ]
  },
  {
   "cell_type": "markdown",
   "id": "8f8aa104-a010-4e3f-9aaf-c722bf093251",
   "metadata": {},
   "source": [
    "## Cross Validation for general MAE Performance"
   ]
  },
  {
   "cell_type": "code",
   "execution_count": 179,
   "id": "4cf2aff1-ee62-45c9-a4b9-0f07c01f1976",
   "metadata": {},
   "outputs": [],
   "source": [
    "cv = RepeatedKFold(n_splits=10, n_repeats=3, random_state=1)\n",
    "# evaluate model\n",
    "scores = cross_val_score(model, X, y, scoring='neg_mean_absolute_error', cv=cv, n_jobs=-1)"
   ]
  },
  {
   "cell_type": "code",
   "execution_count": 180,
   "id": "552cc907-f6db-4ebf-9a6d-b0b5d65b53e8",
   "metadata": {},
   "outputs": [
    {
     "name": "stdout",
     "output_type": "stream",
     "text": [
      "Mean MAE: 0.704 (0.020)\n"
     ]
    }
   ],
   "source": [
    "scores = absolute(scores)\n",
    "print('Mean MAE: %.3f (%.3f)' % (scores.mean(), scores.std()) )"
   ]
  },
  {
   "cell_type": "markdown",
   "id": "80cc48ef-80da-43d8-8d1d-4cc5ef1a4ced",
   "metadata": {},
   "source": [
    "## Training the model for test data prediction"
   ]
  },
  {
   "cell_type": "code",
   "execution_count": 181,
   "id": "18aaa222-7af2-4e8a-a252-2f98969e21a8",
   "metadata": {
    "tags": []
   },
   "outputs": [
    {
     "data": {
      "text/plain": [
       "XGBRegressor(base_score=None, booster=None, callbacks=None,\n",
       "             colsample_bylevel=None, colsample_bynode=None,\n",
       "             colsample_bytree=0.8, early_stopping_rounds=None,\n",
       "             enable_categorical=False, eta=0.1, eval_metric=None,\n",
       "             feature_types=None, gamma=None, gpu_id=None, grow_policy=None,\n",
       "             importance_type=None, interaction_constraints=None,\n",
       "             learning_rate=None, max_bin=None, max_cat_threshold=None,\n",
       "             max_cat_to_onehot=None, max_delta_step=None, max_depth=6,\n",
       "             max_leaves=None, min_child_weight=None, missing=nan,\n",
       "             monotone_constraints=None, n_estimators=1000, n_jobs=None,\n",
       "             num_parallel_tree=None, predictor=None, ...)"
      ]
     },
     "execution_count": 181,
     "metadata": {},
     "output_type": "execute_result"
    }
   ],
   "source": [
    "model.fit(X,y)"
   ]
  },
  {
   "cell_type": "code",
   "execution_count": 182,
   "id": "4c96e33d-ab73-42f0-9db5-d9a881bd0e63",
   "metadata": {},
   "outputs": [],
   "source": [
    "predictions = model.predict(test_data.values)"
   ]
  },
  {
   "cell_type": "code",
   "execution_count": 183,
   "id": "fccb03cf-48da-4add-9b1f-7d067b27f53d",
   "metadata": {},
   "outputs": [],
   "source": [
    "rounded_predictions = []\n",
    "for value in predictions:\n",
    "    rounded_predictions.append(round(value,2))"
   ]
  },
  {
   "cell_type": "code",
   "execution_count": 184,
   "id": "f20a353a-99e8-4fea-af59-4bcbec43234c",
   "metadata": {},
   "outputs": [],
   "source": [
    "test_data[\"predicted_amount\"] = rounded_predictions"
   ]
  },
  {
   "cell_type": "markdown",
   "id": "4b2e6c62-e824-4688-9571-641354fbd086",
   "metadata": {},
   "source": [
    "## Displaying the predictions per product per day"
   ]
  },
  {
   "cell_type": "code",
   "execution_count": 185,
   "id": "de7ad937-de7e-4d25-bbba-fe99d89c4e72",
   "metadata": {},
   "outputs": [
    {
     "data": {
      "text/html": [
       "<div>\n",
       "<style scoped>\n",
       "    .dataframe tbody tr th:only-of-type {\n",
       "        vertical-align: middle;\n",
       "    }\n",
       "\n",
       "    .dataframe tbody tr th {\n",
       "        vertical-align: top;\n",
       "    }\n",
       "\n",
       "    .dataframe thead th {\n",
       "        text-align: right;\n",
       "    }\n",
       "</style>\n",
       "<table border=\"1\" class=\"dataframe\">\n",
       "  <thead>\n",
       "    <tr style=\"text-align: right;\">\n",
       "      <th></th>\n",
       "      <th>product_id</th>\n",
       "      <th>month</th>\n",
       "      <th>day</th>\n",
       "      <th>dayofweek</th>\n",
       "      <th>predicted_amount</th>\n",
       "      <th>year</th>\n",
       "      <th>id</th>\n",
       "    </tr>\n",
       "  </thead>\n",
       "  <tbody>\n",
       "    <tr>\n",
       "      <th>0</th>\n",
       "      <td>1</td>\n",
       "      <td>4</td>\n",
       "      <td>10</td>\n",
       "      <td>1</td>\n",
       "      <td>2.62</td>\n",
       "      <td>2023</td>\n",
       "      <td>0</td>\n",
       "    </tr>\n",
       "    <tr>\n",
       "      <th>1</th>\n",
       "      <td>1</td>\n",
       "      <td>4</td>\n",
       "      <td>11</td>\n",
       "      <td>2</td>\n",
       "      <td>1.25</td>\n",
       "      <td>2023</td>\n",
       "      <td>1</td>\n",
       "    </tr>\n",
       "    <tr>\n",
       "      <th>2</th>\n",
       "      <td>1</td>\n",
       "      <td>4</td>\n",
       "      <td>12</td>\n",
       "      <td>3</td>\n",
       "      <td>1.09</td>\n",
       "      <td>2023</td>\n",
       "      <td>2</td>\n",
       "    </tr>\n",
       "    <tr>\n",
       "      <th>3</th>\n",
       "      <td>1</td>\n",
       "      <td>4</td>\n",
       "      <td>13</td>\n",
       "      <td>4</td>\n",
       "      <td>0.99</td>\n",
       "      <td>2023</td>\n",
       "      <td>3</td>\n",
       "    </tr>\n",
       "    <tr>\n",
       "      <th>4</th>\n",
       "      <td>1</td>\n",
       "      <td>4</td>\n",
       "      <td>14</td>\n",
       "      <td>5</td>\n",
       "      <td>0.95</td>\n",
       "      <td>2023</td>\n",
       "      <td>4</td>\n",
       "    </tr>\n",
       "    <tr>\n",
       "      <th>...</th>\n",
       "      <td>...</td>\n",
       "      <td>...</td>\n",
       "      <td>...</td>\n",
       "      <td>...</td>\n",
       "      <td>...</td>\n",
       "      <td>...</td>\n",
       "      <td>...</td>\n",
       "    </tr>\n",
       "    <tr>\n",
       "      <th>1033</th>\n",
       "      <td>173</td>\n",
       "      <td>4</td>\n",
       "      <td>11</td>\n",
       "      <td>2</td>\n",
       "      <td>2.75</td>\n",
       "      <td>2023</td>\n",
       "      <td>1033</td>\n",
       "    </tr>\n",
       "    <tr>\n",
       "      <th>1034</th>\n",
       "      <td>173</td>\n",
       "      <td>4</td>\n",
       "      <td>12</td>\n",
       "      <td>3</td>\n",
       "      <td>2.63</td>\n",
       "      <td>2023</td>\n",
       "      <td>1034</td>\n",
       "    </tr>\n",
       "    <tr>\n",
       "      <th>1035</th>\n",
       "      <td>173</td>\n",
       "      <td>4</td>\n",
       "      <td>13</td>\n",
       "      <td>4</td>\n",
       "      <td>1.44</td>\n",
       "      <td>2023</td>\n",
       "      <td>1035</td>\n",
       "    </tr>\n",
       "    <tr>\n",
       "      <th>1036</th>\n",
       "      <td>173</td>\n",
       "      <td>4</td>\n",
       "      <td>14</td>\n",
       "      <td>5</td>\n",
       "      <td>1.45</td>\n",
       "      <td>2023</td>\n",
       "      <td>1036</td>\n",
       "    </tr>\n",
       "    <tr>\n",
       "      <th>1037</th>\n",
       "      <td>173</td>\n",
       "      <td>4</td>\n",
       "      <td>15</td>\n",
       "      <td>6</td>\n",
       "      <td>0.97</td>\n",
       "      <td>2023</td>\n",
       "      <td>1037</td>\n",
       "    </tr>\n",
       "  </tbody>\n",
       "</table>\n",
       "<p>1038 rows × 7 columns</p>\n",
       "</div>"
      ],
      "text/plain": [
       "      product_id  month  day  dayofweek  predicted_amount  year    id\n",
       "0              1      4   10          1              2.62  2023     0\n",
       "1              1      4   11          2              1.25  2023     1\n",
       "2              1      4   12          3              1.09  2023     2\n",
       "3              1      4   13          4              0.99  2023     3\n",
       "4              1      4   14          5              0.95  2023     4\n",
       "...          ...    ...  ...        ...               ...   ...   ...\n",
       "1033         173      4   11          2              2.75  2023  1033\n",
       "1034         173      4   12          3              2.63  2023  1034\n",
       "1035         173      4   13          4              1.44  2023  1035\n",
       "1036         173      4   14          5              1.45  2023  1036\n",
       "1037         173      4   15          6              0.97  2023  1037\n",
       "\n",
       "[1038 rows x 7 columns]"
      ]
     },
     "execution_count": 185,
     "metadata": {},
     "output_type": "execute_result"
    }
   ],
   "source": [
    "test_data[\"year\"] = [2023 for x in range(len(test_data))]\n",
    "test_data[\"id\"] = test_data.index\n",
    "test_data"
   ]
  },
  {
   "cell_type": "markdown",
   "id": "54ca919c-ac6c-4b6f-bb74-b59322cdd458",
   "metadata": {},
   "source": [
    "## Creating datetime column for Visualization in Grafana"
   ]
  },
  {
   "cell_type": "code",
   "execution_count": 190,
   "id": "2c6eecf4-2b6b-44a8-b1f3-bfacd96f0191",
   "metadata": {},
   "outputs": [],
   "source": [
    "timestamps = []\n",
    "for i, row in test_data.iterrows():\n",
    "    c_year = int(row['year'])\n",
    "    c_month = int(row['month'])\n",
    "    c_day = int(row['day'])\n",
    "    curr_stamp = pd.to_datetime(f'{c_year}-{c_month}-{c_day}')\n",
    "    timestamps.append(curr_stamp)"
   ]
  },
  {
   "cell_type": "code",
   "execution_count": 191,
   "id": "ced948e0-1b21-4e68-b898-40fee2b2d24d",
   "metadata": {},
   "outputs": [],
   "source": [
    "test_data_with_timestamp = test_data"
   ]
  },
  {
   "cell_type": "code",
   "execution_count": 192,
   "id": "0048a428-a01a-4a22-a005-93a3944b0fab",
   "metadata": {},
   "outputs": [],
   "source": [
    "test_data_with_timestamp[\"date\"] = timestamps"
   ]
  },
  {
   "cell_type": "code",
   "execution_count": 193,
   "id": "f980fdd3-3329-4581-b783-5461cbe806c0",
   "metadata": {},
   "outputs": [
    {
     "data": {
      "text/html": [
       "<div>\n",
       "<style scoped>\n",
       "    .dataframe tbody tr th:only-of-type {\n",
       "        vertical-align: middle;\n",
       "    }\n",
       "\n",
       "    .dataframe tbody tr th {\n",
       "        vertical-align: top;\n",
       "    }\n",
       "\n",
       "    .dataframe thead th {\n",
       "        text-align: right;\n",
       "    }\n",
       "</style>\n",
       "<table border=\"1\" class=\"dataframe\">\n",
       "  <thead>\n",
       "    <tr style=\"text-align: right;\">\n",
       "      <th></th>\n",
       "      <th>product_id</th>\n",
       "      <th>month</th>\n",
       "      <th>day</th>\n",
       "      <th>dayofweek</th>\n",
       "      <th>predicted_amount</th>\n",
       "      <th>year</th>\n",
       "      <th>id</th>\n",
       "      <th>date</th>\n",
       "    </tr>\n",
       "  </thead>\n",
       "  <tbody>\n",
       "    <tr>\n",
       "      <th>0</th>\n",
       "      <td>1</td>\n",
       "      <td>4</td>\n",
       "      <td>10</td>\n",
       "      <td>1</td>\n",
       "      <td>2.62</td>\n",
       "      <td>2023</td>\n",
       "      <td>0</td>\n",
       "      <td>2023-04-10</td>\n",
       "    </tr>\n",
       "    <tr>\n",
       "      <th>1</th>\n",
       "      <td>1</td>\n",
       "      <td>4</td>\n",
       "      <td>11</td>\n",
       "      <td>2</td>\n",
       "      <td>1.25</td>\n",
       "      <td>2023</td>\n",
       "      <td>1</td>\n",
       "      <td>2023-04-11</td>\n",
       "    </tr>\n",
       "    <tr>\n",
       "      <th>2</th>\n",
       "      <td>1</td>\n",
       "      <td>4</td>\n",
       "      <td>12</td>\n",
       "      <td>3</td>\n",
       "      <td>1.09</td>\n",
       "      <td>2023</td>\n",
       "      <td>2</td>\n",
       "      <td>2023-04-12</td>\n",
       "    </tr>\n",
       "    <tr>\n",
       "      <th>3</th>\n",
       "      <td>1</td>\n",
       "      <td>4</td>\n",
       "      <td>13</td>\n",
       "      <td>4</td>\n",
       "      <td>0.99</td>\n",
       "      <td>2023</td>\n",
       "      <td>3</td>\n",
       "      <td>2023-04-13</td>\n",
       "    </tr>\n",
       "    <tr>\n",
       "      <th>4</th>\n",
       "      <td>1</td>\n",
       "      <td>4</td>\n",
       "      <td>14</td>\n",
       "      <td>5</td>\n",
       "      <td>0.95</td>\n",
       "      <td>2023</td>\n",
       "      <td>4</td>\n",
       "      <td>2023-04-14</td>\n",
       "    </tr>\n",
       "    <tr>\n",
       "      <th>...</th>\n",
       "      <td>...</td>\n",
       "      <td>...</td>\n",
       "      <td>...</td>\n",
       "      <td>...</td>\n",
       "      <td>...</td>\n",
       "      <td>...</td>\n",
       "      <td>...</td>\n",
       "      <td>...</td>\n",
       "    </tr>\n",
       "    <tr>\n",
       "      <th>1033</th>\n",
       "      <td>173</td>\n",
       "      <td>4</td>\n",
       "      <td>11</td>\n",
       "      <td>2</td>\n",
       "      <td>2.75</td>\n",
       "      <td>2023</td>\n",
       "      <td>1033</td>\n",
       "      <td>2023-04-11</td>\n",
       "    </tr>\n",
       "    <tr>\n",
       "      <th>1034</th>\n",
       "      <td>173</td>\n",
       "      <td>4</td>\n",
       "      <td>12</td>\n",
       "      <td>3</td>\n",
       "      <td>2.63</td>\n",
       "      <td>2023</td>\n",
       "      <td>1034</td>\n",
       "      <td>2023-04-12</td>\n",
       "    </tr>\n",
       "    <tr>\n",
       "      <th>1035</th>\n",
       "      <td>173</td>\n",
       "      <td>4</td>\n",
       "      <td>13</td>\n",
       "      <td>4</td>\n",
       "      <td>1.44</td>\n",
       "      <td>2023</td>\n",
       "      <td>1035</td>\n",
       "      <td>2023-04-13</td>\n",
       "    </tr>\n",
       "    <tr>\n",
       "      <th>1036</th>\n",
       "      <td>173</td>\n",
       "      <td>4</td>\n",
       "      <td>14</td>\n",
       "      <td>5</td>\n",
       "      <td>1.45</td>\n",
       "      <td>2023</td>\n",
       "      <td>1036</td>\n",
       "      <td>2023-04-14</td>\n",
       "    </tr>\n",
       "    <tr>\n",
       "      <th>1037</th>\n",
       "      <td>173</td>\n",
       "      <td>4</td>\n",
       "      <td>15</td>\n",
       "      <td>6</td>\n",
       "      <td>0.97</td>\n",
       "      <td>2023</td>\n",
       "      <td>1037</td>\n",
       "      <td>2023-04-15</td>\n",
       "    </tr>\n",
       "  </tbody>\n",
       "</table>\n",
       "<p>1038 rows × 8 columns</p>\n",
       "</div>"
      ],
      "text/plain": [
       "      product_id  month  day  dayofweek  predicted_amount  year    id  \\\n",
       "0              1      4   10          1              2.62  2023     0   \n",
       "1              1      4   11          2              1.25  2023     1   \n",
       "2              1      4   12          3              1.09  2023     2   \n",
       "3              1      4   13          4              0.99  2023     3   \n",
       "4              1      4   14          5              0.95  2023     4   \n",
       "...          ...    ...  ...        ...               ...   ...   ...   \n",
       "1033         173      4   11          2              2.75  2023  1033   \n",
       "1034         173      4   12          3              2.63  2023  1034   \n",
       "1035         173      4   13          4              1.44  2023  1035   \n",
       "1036         173      4   14          5              1.45  2023  1036   \n",
       "1037         173      4   15          6              0.97  2023  1037   \n",
       "\n",
       "           date  \n",
       "0    2023-04-10  \n",
       "1    2023-04-11  \n",
       "2    2023-04-12  \n",
       "3    2023-04-13  \n",
       "4    2023-04-14  \n",
       "...         ...  \n",
       "1033 2023-04-11  \n",
       "1034 2023-04-12  \n",
       "1035 2023-04-13  \n",
       "1036 2023-04-14  \n",
       "1037 2023-04-15  \n",
       "\n",
       "[1038 rows x 8 columns]"
      ]
     },
     "execution_count": 193,
     "metadata": {},
     "output_type": "execute_result"
    }
   ],
   "source": [
    "test_data_with_timestamp"
   ]
  },
  {
   "cell_type": "markdown",
   "id": "473d9af9-9d9d-4603-8a75-8e4eb2e4397f",
   "metadata": {},
   "source": [
    "## Insert daily sales forecast into the database"
   ]
  },
  {
   "cell_type": "code",
   "execution_count": 200,
   "id": "024dfcc3-efa1-4167-ad9a-f7f094d798cc",
   "metadata": {
    "tags": []
   },
   "outputs": [],
   "source": [
    "Base = declarative_base()\n",
    "\n",
    "Session = sessionmaker(bind=engine)\n",
    "session = Session()"
   ]
  },
  {
   "cell_type": "code",
   "execution_count": 201,
   "id": "a20faada-727f-46b5-b534-f65199e63d98",
   "metadata": {
    "tags": []
   },
   "outputs": [],
   "source": [
    "class Daily_Forecast(Base):\n",
    "    __tablename__ = 'daily_forecast'\n",
    "    \n",
    "    id = Column(Integer, primary_key=True)\n",
    "    product_id = Column(Integer)\n",
    "    date = Column(DateTime)\n",
    "    year = Column(Integer)\n",
    "    month = Column(Integer)\n",
    "    day = Column(Integer)\n",
    "    day_of_week = Column(Integer)\n",
    "    predicted_quantity = Column(Float)"
   ]
  },
  {
   "cell_type": "code",
   "execution_count": 202,
   "id": "e9741700-32eb-4008-9070-cc40452c1e16",
   "metadata": {
    "tags": []
   },
   "outputs": [],
   "source": [
    "daily_forecast_rows = []\n",
    "for i, row in test_data_with_timestamp.iterrows():\n",
    "    current_insert = Daily_Forecast(id=row[\"id\"], product_id=row[\"product_id\"], date=row[\"date\"], year=row[\"year\"], month=row[\"month\"], day=row[\"day\"], day_of_week=row[\"dayofweek\"], predicted_quantity=row[\"predicted_amount\"])\n",
    "    daily_forecast_rows.append(current_insert)"
   ]
  },
  {
   "cell_type": "code",
   "execution_count": 203,
   "id": "ab90973d-85e1-46fd-900a-c19e1c9aa464",
   "metadata": {
    "tags": []
   },
   "outputs": [],
   "source": [
    "session.add_all(daily_forecast_rows[0:250])\n",
    "session.commit()"
   ]
  },
  {
   "cell_type": "code",
   "execution_count": 205,
   "id": "9243b77d-92a0-4aa0-bc76-bea3ef820198",
   "metadata": {},
   "outputs": [],
   "source": [
    "session.add_all(daily_forecast_rows[250:500])\n",
    "session.commit()"
   ]
  },
  {
   "cell_type": "code",
   "execution_count": 206,
   "id": "7ba24c37-7c3e-4a4b-83fb-127dc88f9178",
   "metadata": {},
   "outputs": [],
   "source": [
    "session.add_all(daily_forecast_rows[500:750])\n",
    "session.commit()"
   ]
  },
  {
   "cell_type": "code",
   "execution_count": 207,
   "id": "be40bcab-be17-48ad-86dd-fa66ec74ee96",
   "metadata": {},
   "outputs": [],
   "source": [
    "session.add_all(daily_forecast_rows[750:len(daily_forecast_rows)])\n",
    "session.commit()"
   ]
  },
  {
   "cell_type": "code",
   "execution_count": 209,
   "id": "257db9fa-f350-420f-84c6-cc4bc0375b23",
   "metadata": {
    "tags": []
   },
   "outputs": [],
   "source": [
    "session.rollback()\n",
    "session.close()"
   ]
  },
  {
   "cell_type": "code",
   "execution_count": 208,
   "id": "e61a2809-4f95-4208-b558-54ec46c5c2b1",
   "metadata": {},
   "outputs": [
    {
     "data": {
      "text/html": [
       "<div>\n",
       "<style scoped>\n",
       "    .dataframe tbody tr th:only-of-type {\n",
       "        vertical-align: middle;\n",
       "    }\n",
       "\n",
       "    .dataframe tbody tr th {\n",
       "        vertical-align: top;\n",
       "    }\n",
       "\n",
       "    .dataframe thead th {\n",
       "        text-align: right;\n",
       "    }\n",
       "</style>\n",
       "<table border=\"1\" class=\"dataframe\">\n",
       "  <thead>\n",
       "    <tr style=\"text-align: right;\">\n",
       "      <th></th>\n",
       "      <th>id</th>\n",
       "      <th>product_id</th>\n",
       "      <th>date</th>\n",
       "      <th>year</th>\n",
       "      <th>month</th>\n",
       "      <th>day</th>\n",
       "      <th>day_of_week</th>\n",
       "      <th>predicted_quantity</th>\n",
       "    </tr>\n",
       "  </thead>\n",
       "  <tbody>\n",
       "    <tr>\n",
       "      <th>0</th>\n",
       "      <td>0</td>\n",
       "      <td>1</td>\n",
       "      <td>2023-04-10</td>\n",
       "      <td>2023</td>\n",
       "      <td>4</td>\n",
       "      <td>10</td>\n",
       "      <td>1</td>\n",
       "      <td>2.62</td>\n",
       "    </tr>\n",
       "    <tr>\n",
       "      <th>1</th>\n",
       "      <td>1</td>\n",
       "      <td>1</td>\n",
       "      <td>2023-04-11</td>\n",
       "      <td>2023</td>\n",
       "      <td>4</td>\n",
       "      <td>11</td>\n",
       "      <td>2</td>\n",
       "      <td>1.25</td>\n",
       "    </tr>\n",
       "    <tr>\n",
       "      <th>2</th>\n",
       "      <td>2</td>\n",
       "      <td>1</td>\n",
       "      <td>2023-04-12</td>\n",
       "      <td>2023</td>\n",
       "      <td>4</td>\n",
       "      <td>12</td>\n",
       "      <td>3</td>\n",
       "      <td>1.09</td>\n",
       "    </tr>\n",
       "    <tr>\n",
       "      <th>3</th>\n",
       "      <td>3</td>\n",
       "      <td>1</td>\n",
       "      <td>2023-04-13</td>\n",
       "      <td>2023</td>\n",
       "      <td>4</td>\n",
       "      <td>13</td>\n",
       "      <td>4</td>\n",
       "      <td>0.99</td>\n",
       "    </tr>\n",
       "    <tr>\n",
       "      <th>4</th>\n",
       "      <td>4</td>\n",
       "      <td>1</td>\n",
       "      <td>2023-04-14</td>\n",
       "      <td>2023</td>\n",
       "      <td>4</td>\n",
       "      <td>14</td>\n",
       "      <td>5</td>\n",
       "      <td>0.95</td>\n",
       "    </tr>\n",
       "    <tr>\n",
       "      <th>...</th>\n",
       "      <td>...</td>\n",
       "      <td>...</td>\n",
       "      <td>...</td>\n",
       "      <td>...</td>\n",
       "      <td>...</td>\n",
       "      <td>...</td>\n",
       "      <td>...</td>\n",
       "      <td>...</td>\n",
       "    </tr>\n",
       "    <tr>\n",
       "      <th>1033</th>\n",
       "      <td>1033</td>\n",
       "      <td>173</td>\n",
       "      <td>2023-04-11</td>\n",
       "      <td>2023</td>\n",
       "      <td>4</td>\n",
       "      <td>11</td>\n",
       "      <td>2</td>\n",
       "      <td>2.75</td>\n",
       "    </tr>\n",
       "    <tr>\n",
       "      <th>1034</th>\n",
       "      <td>1034</td>\n",
       "      <td>173</td>\n",
       "      <td>2023-04-12</td>\n",
       "      <td>2023</td>\n",
       "      <td>4</td>\n",
       "      <td>12</td>\n",
       "      <td>3</td>\n",
       "      <td>2.63</td>\n",
       "    </tr>\n",
       "    <tr>\n",
       "      <th>1035</th>\n",
       "      <td>1035</td>\n",
       "      <td>173</td>\n",
       "      <td>2023-04-13</td>\n",
       "      <td>2023</td>\n",
       "      <td>4</td>\n",
       "      <td>13</td>\n",
       "      <td>4</td>\n",
       "      <td>1.44</td>\n",
       "    </tr>\n",
       "    <tr>\n",
       "      <th>1036</th>\n",
       "      <td>1036</td>\n",
       "      <td>173</td>\n",
       "      <td>2023-04-14</td>\n",
       "      <td>2023</td>\n",
       "      <td>4</td>\n",
       "      <td>14</td>\n",
       "      <td>5</td>\n",
       "      <td>1.45</td>\n",
       "    </tr>\n",
       "    <tr>\n",
       "      <th>1037</th>\n",
       "      <td>1037</td>\n",
       "      <td>173</td>\n",
       "      <td>2023-04-15</td>\n",
       "      <td>2023</td>\n",
       "      <td>4</td>\n",
       "      <td>15</td>\n",
       "      <td>6</td>\n",
       "      <td>0.97</td>\n",
       "    </tr>\n",
       "  </tbody>\n",
       "</table>\n",
       "<p>1038 rows × 8 columns</p>\n",
       "</div>"
      ],
      "text/plain": [
       "        id  product_id       date  year  month  day  day_of_week  \\\n",
       "0        0           1 2023-04-10  2023      4   10            1   \n",
       "1        1           1 2023-04-11  2023      4   11            2   \n",
       "2        2           1 2023-04-12  2023      4   12            3   \n",
       "3        3           1 2023-04-13  2023      4   13            4   \n",
       "4        4           1 2023-04-14  2023      4   14            5   \n",
       "...    ...         ...        ...   ...    ...  ...          ...   \n",
       "1033  1033         173 2023-04-11  2023      4   11            2   \n",
       "1034  1034         173 2023-04-12  2023      4   12            3   \n",
       "1035  1035         173 2023-04-13  2023      4   13            4   \n",
       "1036  1036         173 2023-04-14  2023      4   14            5   \n",
       "1037  1037         173 2023-04-15  2023      4   15            6   \n",
       "\n",
       "     predicted_quantity  \n",
       "0                  2.62  \n",
       "1                  1.25  \n",
       "2                  1.09  \n",
       "3                  0.99  \n",
       "4                  0.95  \n",
       "...                 ...  \n",
       "1033               2.75  \n",
       "1034               2.63  \n",
       "1035               1.44  \n",
       "1036               1.45  \n",
       "1037               0.97  \n",
       "\n",
       "[1038 rows x 8 columns]"
      ]
     },
     "execution_count": 208,
     "metadata": {},
     "output_type": "execute_result"
    }
   ],
   "source": [
    "pd.DataFrame(engine.connect().execute(text('select * from daily_forecast;')), columns = [\"id\", \"product_id\", \"date\", \"year\", \"month\", \"day\", \"day_of_week\", \"predicted_quantity\"])"
   ]
  },
  {
   "cell_type": "markdown",
   "id": "fe5bc3b5-a3ed-452c-8572-b0791ea5b398",
   "metadata": {},
   "source": [
    "## Insert weekly forecast into the database"
   ]
  },
  {
   "cell_type": "code",
   "execution_count": 243,
   "id": "a423b4c0-810c-4ee8-b61f-c75d01862396",
   "metadata": {},
   "outputs": [],
   "source": [
    "Base = declarative_base()\n",
    "\n",
    "Session = sessionmaker(bind=engine)\n",
    "session = Session()"
   ]
  },
  {
   "cell_type": "code",
   "execution_count": 244,
   "id": "e1d7f142-863a-4415-97de-75d2d38ecb10",
   "metadata": {},
   "outputs": [],
   "source": [
    "class Weekly_Forecast(Base):\n",
    "    __tablename__ = 'weekly_forecast'\n",
    "    \n",
    "    id = Column(Integer, primary_key=True)\n",
    "    product_id = Column(Integer)\n",
    "    product_price = Column(Float)\n",
    "    product_category = Column(String)\n",
    "    product_id_str = Column(String)\n",
    "    predicted_quantity = Column(Float)"
   ]
  },
  {
   "cell_type": "code",
   "execution_count": 245,
   "id": "912f3786-94d4-43cd-bdeb-13c3629386ab",
   "metadata": {},
   "outputs": [],
   "source": [
    "weekly_prediction = test_data.groupby(['product_id'])['predicted_amount'].sum().reset_index()"
   ]
  },
  {
   "cell_type": "code",
   "execution_count": 246,
   "id": "e8ec62dc-b9ce-466e-898c-701358f46b10",
   "metadata": {},
   "outputs": [
    {
     "data": {
      "text/html": [
       "<div>\n",
       "<style scoped>\n",
       "    .dataframe tbody tr th:only-of-type {\n",
       "        vertical-align: middle;\n",
       "    }\n",
       "\n",
       "    .dataframe tbody tr th {\n",
       "        vertical-align: top;\n",
       "    }\n",
       "\n",
       "    .dataframe thead th {\n",
       "        text-align: right;\n",
       "    }\n",
       "</style>\n",
       "<table border=\"1\" class=\"dataframe\">\n",
       "  <thead>\n",
       "    <tr style=\"text-align: right;\">\n",
       "      <th></th>\n",
       "      <th>product_id</th>\n",
       "      <th>predicted_amount</th>\n",
       "      <th>id</th>\n",
       "    </tr>\n",
       "  </thead>\n",
       "  <tbody>\n",
       "    <tr>\n",
       "      <th>0</th>\n",
       "      <td>1</td>\n",
       "      <td>7.73</td>\n",
       "      <td>0</td>\n",
       "    </tr>\n",
       "    <tr>\n",
       "      <th>1</th>\n",
       "      <td>2</td>\n",
       "      <td>6.02</td>\n",
       "      <td>1</td>\n",
       "    </tr>\n",
       "    <tr>\n",
       "      <th>2</th>\n",
       "      <td>3</td>\n",
       "      <td>10.68</td>\n",
       "      <td>2</td>\n",
       "    </tr>\n",
       "    <tr>\n",
       "      <th>3</th>\n",
       "      <td>4</td>\n",
       "      <td>12.74</td>\n",
       "      <td>3</td>\n",
       "    </tr>\n",
       "    <tr>\n",
       "      <th>4</th>\n",
       "      <td>5</td>\n",
       "      <td>11.42</td>\n",
       "      <td>4</td>\n",
       "    </tr>\n",
       "    <tr>\n",
       "      <th>...</th>\n",
       "      <td>...</td>\n",
       "      <td>...</td>\n",
       "      <td>...</td>\n",
       "    </tr>\n",
       "    <tr>\n",
       "      <th>168</th>\n",
       "      <td>169</td>\n",
       "      <td>10.78</td>\n",
       "      <td>168</td>\n",
       "    </tr>\n",
       "    <tr>\n",
       "      <th>169</th>\n",
       "      <td>170</td>\n",
       "      <td>13.11</td>\n",
       "      <td>169</td>\n",
       "    </tr>\n",
       "    <tr>\n",
       "      <th>170</th>\n",
       "      <td>171</td>\n",
       "      <td>16.01</td>\n",
       "      <td>170</td>\n",
       "    </tr>\n",
       "    <tr>\n",
       "      <th>171</th>\n",
       "      <td>172</td>\n",
       "      <td>14.88</td>\n",
       "      <td>171</td>\n",
       "    </tr>\n",
       "    <tr>\n",
       "      <th>172</th>\n",
       "      <td>173</td>\n",
       "      <td>12.21</td>\n",
       "      <td>172</td>\n",
       "    </tr>\n",
       "  </tbody>\n",
       "</table>\n",
       "<p>173 rows × 3 columns</p>\n",
       "</div>"
      ],
      "text/plain": [
       "     product_id  predicted_amount   id\n",
       "0             1              7.73    0\n",
       "1             2              6.02    1\n",
       "2             3             10.68    2\n",
       "3             4             12.74    3\n",
       "4             5             11.42    4\n",
       "..          ...               ...  ...\n",
       "168         169             10.78  168\n",
       "169         170             13.11  169\n",
       "170         171             16.01  170\n",
       "171         172             14.88  171\n",
       "172         173             12.21  172\n",
       "\n",
       "[173 rows x 3 columns]"
      ]
     },
     "execution_count": 246,
     "metadata": {},
     "output_type": "execute_result"
    }
   ],
   "source": [
    "weekly_prediction[\"id\"] = weekly_prediction.index\n",
    "weekly_prediction"
   ]
  },
  {
   "cell_type": "markdown",
   "id": "920be013-ee5d-4c24-8b22-ba5314a1f06c",
   "metadata": {},
   "source": [
    "## Adding additional columns for Grafana visualization"
   ]
  },
  {
   "cell_type": "code",
   "execution_count": 247,
   "id": "4b3930d0-3dfa-4f6e-a221-ac893111adc8",
   "metadata": {},
   "outputs": [],
   "source": [
    "categories = []\n",
    "prices = []\n",
    "manufacturers = []\n",
    "for i, row in weekly_prediction.iterrows():\n",
    "    current_id = row[\"product_id\"]\n",
    "    current_df = products_df[products_df[\"id\"]==current_id]\n",
    "    current_price = current_df.price.values[0]\n",
    "    current_cat = current_df.name.values[0]\n",
    "    current_man = current_df.manufacturer.values[0]\n",
    "    \n",
    "    prices.append(current_price)\n",
    "    categories.append(current_cat)\n",
    "    manufacturers.append(current_man)"
   ]
  },
  {
   "cell_type": "code",
   "execution_count": 248,
   "id": "0e57a06d-dd36-4735-b5c1-540323fa4d2f",
   "metadata": {},
   "outputs": [],
   "source": [
    "weekly_prediction[\"price\"] = prices"
   ]
  },
  {
   "cell_type": "code",
   "execution_count": 249,
   "id": "f5ad3965-3281-44c0-a193-8ccad149ee9c",
   "metadata": {},
   "outputs": [],
   "source": [
    "weekly_prediction[\"category\"] = categories"
   ]
  },
  {
   "cell_type": "code",
   "execution_count": 250,
   "id": "1d837089-d0dc-4ef7-874a-900a0bc91e3b",
   "metadata": {},
   "outputs": [],
   "source": [
    "weekly_prediction[\"manufacturer\"] = manufacturers"
   ]
  },
  {
   "cell_type": "code",
   "execution_count": 251,
   "id": "362939ed-08b7-4174-8ccd-bfaeb9186ec5",
   "metadata": {},
   "outputs": [
    {
     "data": {
      "text/html": [
       "<div>\n",
       "<style scoped>\n",
       "    .dataframe tbody tr th:only-of-type {\n",
       "        vertical-align: middle;\n",
       "    }\n",
       "\n",
       "    .dataframe tbody tr th {\n",
       "        vertical-align: top;\n",
       "    }\n",
       "\n",
       "    .dataframe thead th {\n",
       "        text-align: right;\n",
       "    }\n",
       "</style>\n",
       "<table border=\"1\" class=\"dataframe\">\n",
       "  <thead>\n",
       "    <tr style=\"text-align: right;\">\n",
       "      <th></th>\n",
       "      <th>product_id</th>\n",
       "      <th>predicted_amount</th>\n",
       "      <th>id</th>\n",
       "      <th>price</th>\n",
       "      <th>category</th>\n",
       "      <th>manufacturer</th>\n",
       "    </tr>\n",
       "  </thead>\n",
       "  <tbody>\n",
       "    <tr>\n",
       "      <th>0</th>\n",
       "      <td>1</td>\n",
       "      <td>7.73</td>\n",
       "      <td>0</td>\n",
       "      <td>99.99</td>\n",
       "      <td>Sneaker</td>\n",
       "      <td>Nike</td>\n",
       "    </tr>\n",
       "    <tr>\n",
       "      <th>1</th>\n",
       "      <td>2</td>\n",
       "      <td>6.02</td>\n",
       "      <td>1</td>\n",
       "      <td>19.99</td>\n",
       "      <td>T-Shirt</td>\n",
       "      <td>Adidas</td>\n",
       "    </tr>\n",
       "    <tr>\n",
       "      <th>2</th>\n",
       "      <td>3</td>\n",
       "      <td>10.68</td>\n",
       "      <td>2</td>\n",
       "      <td>49.99</td>\n",
       "      <td>Long pants</td>\n",
       "      <td>Puma</td>\n",
       "    </tr>\n",
       "    <tr>\n",
       "      <th>3</th>\n",
       "      <td>4</td>\n",
       "      <td>12.74</td>\n",
       "      <td>3</td>\n",
       "      <td>199.99</td>\n",
       "      <td>Winter jacket</td>\n",
       "      <td>The North Face</td>\n",
       "    </tr>\n",
       "    <tr>\n",
       "      <th>4</th>\n",
       "      <td>5</td>\n",
       "      <td>11.42</td>\n",
       "      <td>4</td>\n",
       "      <td>39.99</td>\n",
       "      <td>Short pants</td>\n",
       "      <td>Levis</td>\n",
       "    </tr>\n",
       "    <tr>\n",
       "      <th>...</th>\n",
       "      <td>...</td>\n",
       "      <td>...</td>\n",
       "      <td>...</td>\n",
       "      <td>...</td>\n",
       "      <td>...</td>\n",
       "      <td>...</td>\n",
       "    </tr>\n",
       "    <tr>\n",
       "      <th>168</th>\n",
       "      <td>169</td>\n",
       "      <td>10.78</td>\n",
       "      <td>168</td>\n",
       "      <td>99.99</td>\n",
       "      <td>Long pants</td>\n",
       "      <td>Nike</td>\n",
       "    </tr>\n",
       "    <tr>\n",
       "      <th>169</th>\n",
       "      <td>170</td>\n",
       "      <td>13.11</td>\n",
       "      <td>169</td>\n",
       "      <td>69.99</td>\n",
       "      <td>Dress</td>\n",
       "      <td>Zara</td>\n",
       "    </tr>\n",
       "    <tr>\n",
       "      <th>170</th>\n",
       "      <td>171</td>\n",
       "      <td>16.01</td>\n",
       "      <td>170</td>\n",
       "      <td>129.99</td>\n",
       "      <td>Summer jacket</td>\n",
       "      <td>Levis</td>\n",
       "    </tr>\n",
       "    <tr>\n",
       "      <th>171</th>\n",
       "      <td>172</td>\n",
       "      <td>14.88</td>\n",
       "      <td>171</td>\n",
       "      <td>109.99</td>\n",
       "      <td>Sneaker</td>\n",
       "      <td>Adidas</td>\n",
       "    </tr>\n",
       "    <tr>\n",
       "      <th>172</th>\n",
       "      <td>173</td>\n",
       "      <td>12.21</td>\n",
       "      <td>172</td>\n",
       "      <td>249.99</td>\n",
       "      <td>Winter jacket</td>\n",
       "      <td>The North Face</td>\n",
       "    </tr>\n",
       "  </tbody>\n",
       "</table>\n",
       "<p>173 rows × 6 columns</p>\n",
       "</div>"
      ],
      "text/plain": [
       "     product_id  predicted_amount   id   price       category    manufacturer\n",
       "0             1              7.73    0   99.99        Sneaker            Nike\n",
       "1             2              6.02    1   19.99        T-Shirt          Adidas\n",
       "2             3             10.68    2   49.99     Long pants            Puma\n",
       "3             4             12.74    3  199.99  Winter jacket  The North Face\n",
       "4             5             11.42    4   39.99    Short pants           Levis\n",
       "..          ...               ...  ...     ...            ...             ...\n",
       "168         169             10.78  168   99.99     Long pants            Nike\n",
       "169         170             13.11  169   69.99          Dress            Zara\n",
       "170         171             16.01  170  129.99  Summer jacket           Levis\n",
       "171         172             14.88  171  109.99        Sneaker          Adidas\n",
       "172         173             12.21  172  249.99  Winter jacket  The North Face\n",
       "\n",
       "[173 rows x 6 columns]"
      ]
     },
     "execution_count": 251,
     "metadata": {},
     "output_type": "execute_result"
    }
   ],
   "source": [
    "weekly_prediction"
   ]
  },
  {
   "cell_type": "markdown",
   "id": "56ca7556-1302-4d4e-914c-7d011cae829f",
   "metadata": {},
   "source": [
    "## Insert the data"
   ]
  },
  {
   "cell_type": "code",
   "execution_count": 252,
   "id": "e53e6761-de39-4b85-a74b-e033582cbaa1",
   "metadata": {},
   "outputs": [],
   "source": [
    "weekly_forecast_rows = []\n",
    "for i, row in weekly_prediction.iterrows():\n",
    "    current_insert = Weekly_Forecast(id=row[\"id\"], product_id=row[\"product_id\"], product_price=row[\"price\"], product_category=row[\"category\"], product_id_str=row[\"manufacturer\"], predicted_quantity=row[\"predicted_amount\"])\n",
    "    weekly_forecast_rows.append(current_insert)"
   ]
  },
  {
   "cell_type": "code",
   "execution_count": 253,
   "id": "2c08fb57-3d2b-4cd4-905c-ec6c46406d04",
   "metadata": {},
   "outputs": [],
   "source": [
    "session.add_all(weekly_forecast_rows)\n",
    "session.commit()"
   ]
  },
  {
   "cell_type": "code",
   "execution_count": 254,
   "id": "2f75f29b-35d7-4fda-b59d-e9c899391770",
   "metadata": {},
   "outputs": [],
   "source": [
    "session.rollback()\n",
    "session.close()"
   ]
  },
  {
   "cell_type": "code",
   "execution_count": 256,
   "id": "894aad97-8c94-427c-9f2c-92e2b3acaae9",
   "metadata": {},
   "outputs": [
    {
     "data": {
      "text/html": [
       "<div>\n",
       "<style scoped>\n",
       "    .dataframe tbody tr th:only-of-type {\n",
       "        vertical-align: middle;\n",
       "    }\n",
       "\n",
       "    .dataframe tbody tr th {\n",
       "        vertical-align: top;\n",
       "    }\n",
       "\n",
       "    .dataframe thead th {\n",
       "        text-align: right;\n",
       "    }\n",
       "</style>\n",
       "<table border=\"1\" class=\"dataframe\">\n",
       "  <thead>\n",
       "    <tr style=\"text-align: right;\">\n",
       "      <th></th>\n",
       "      <th>id</th>\n",
       "      <th>product_id</th>\n",
       "      <th>price</th>\n",
       "      <th>category</th>\n",
       "      <th>manufacturer</th>\n",
       "      <th>predicted_quantity</th>\n",
       "    </tr>\n",
       "  </thead>\n",
       "  <tbody>\n",
       "    <tr>\n",
       "      <th>0</th>\n",
       "      <td>0</td>\n",
       "      <td>1</td>\n",
       "      <td>99.99</td>\n",
       "      <td>Sneaker</td>\n",
       "      <td>Nike</td>\n",
       "      <td>7.73</td>\n",
       "    </tr>\n",
       "    <tr>\n",
       "      <th>1</th>\n",
       "      <td>1</td>\n",
       "      <td>2</td>\n",
       "      <td>19.99</td>\n",
       "      <td>T-Shirt</td>\n",
       "      <td>Adidas</td>\n",
       "      <td>6.02</td>\n",
       "    </tr>\n",
       "    <tr>\n",
       "      <th>2</th>\n",
       "      <td>2</td>\n",
       "      <td>3</td>\n",
       "      <td>49.99</td>\n",
       "      <td>Long pants</td>\n",
       "      <td>Puma</td>\n",
       "      <td>10.68</td>\n",
       "    </tr>\n",
       "    <tr>\n",
       "      <th>3</th>\n",
       "      <td>3</td>\n",
       "      <td>4</td>\n",
       "      <td>199.99</td>\n",
       "      <td>Winter jacket</td>\n",
       "      <td>The North Face</td>\n",
       "      <td>12.74</td>\n",
       "    </tr>\n",
       "    <tr>\n",
       "      <th>4</th>\n",
       "      <td>4</td>\n",
       "      <td>5</td>\n",
       "      <td>39.99</td>\n",
       "      <td>Short pants</td>\n",
       "      <td>Levis</td>\n",
       "      <td>11.42</td>\n",
       "    </tr>\n",
       "    <tr>\n",
       "      <th>...</th>\n",
       "      <td>...</td>\n",
       "      <td>...</td>\n",
       "      <td>...</td>\n",
       "      <td>...</td>\n",
       "      <td>...</td>\n",
       "      <td>...</td>\n",
       "    </tr>\n",
       "    <tr>\n",
       "      <th>168</th>\n",
       "      <td>168</td>\n",
       "      <td>169</td>\n",
       "      <td>99.99</td>\n",
       "      <td>Long pants</td>\n",
       "      <td>Nike</td>\n",
       "      <td>10.78</td>\n",
       "    </tr>\n",
       "    <tr>\n",
       "      <th>169</th>\n",
       "      <td>169</td>\n",
       "      <td>170</td>\n",
       "      <td>69.99</td>\n",
       "      <td>Dress</td>\n",
       "      <td>Zara</td>\n",
       "      <td>13.11</td>\n",
       "    </tr>\n",
       "    <tr>\n",
       "      <th>170</th>\n",
       "      <td>170</td>\n",
       "      <td>171</td>\n",
       "      <td>129.99</td>\n",
       "      <td>Summer jacket</td>\n",
       "      <td>Levis</td>\n",
       "      <td>16.01</td>\n",
       "    </tr>\n",
       "    <tr>\n",
       "      <th>171</th>\n",
       "      <td>171</td>\n",
       "      <td>172</td>\n",
       "      <td>109.99</td>\n",
       "      <td>Sneaker</td>\n",
       "      <td>Adidas</td>\n",
       "      <td>14.88</td>\n",
       "    </tr>\n",
       "    <tr>\n",
       "      <th>172</th>\n",
       "      <td>172</td>\n",
       "      <td>173</td>\n",
       "      <td>249.99</td>\n",
       "      <td>Winter jacket</td>\n",
       "      <td>The North Face</td>\n",
       "      <td>12.21</td>\n",
       "    </tr>\n",
       "  </tbody>\n",
       "</table>\n",
       "<p>173 rows × 6 columns</p>\n",
       "</div>"
      ],
      "text/plain": [
       "      id  product_id   price       category    manufacturer predicted_quantity\n",
       "0      0           1   99.99        Sneaker            Nike               7.73\n",
       "1      1           2   19.99        T-Shirt          Adidas               6.02\n",
       "2      2           3   49.99     Long pants            Puma              10.68\n",
       "3      3           4  199.99  Winter jacket  The North Face              12.74\n",
       "4      4           5   39.99    Short pants           Levis              11.42\n",
       "..   ...         ...     ...            ...             ...                ...\n",
       "168  168         169   99.99     Long pants            Nike              10.78\n",
       "169  169         170   69.99          Dress            Zara              13.11\n",
       "170  170         171  129.99  Summer jacket           Levis              16.01\n",
       "171  171         172  109.99        Sneaker          Adidas              14.88\n",
       "172  172         173  249.99  Winter jacket  The North Face              12.21\n",
       "\n",
       "[173 rows x 6 columns]"
      ]
     },
     "execution_count": 256,
     "metadata": {},
     "output_type": "execute_result"
    }
   ],
   "source": [
    "pd.DataFrame(engine.connect().execute(text('select * from weekly_forecast;')), columns = [\"id\", \"product_id\", \"price\", \"category\", \"manufacturer\", \"predicted_quantity\"])"
   ]
  },
  {
   "cell_type": "code",
   "execution_count": null,
   "id": "f3dc8496-84d5-4838-949b-58231d51112d",
   "metadata": {},
   "outputs": [],
   "source": []
  },
  {
   "cell_type": "code",
   "execution_count": null,
   "id": "f32cdf96-15ea-452f-bac8-c5ea4e340219",
   "metadata": {},
   "outputs": [],
   "source": []
  }
 ],
 "metadata": {
  "kernelspec": {
   "display_name": "Python 3",
   "language": "python",
   "name": "python3"
  },
  "language_info": {
   "codemirror_mode": {
    "name": "ipython",
    "version": 3
   },
   "file_extension": ".py",
   "mimetype": "text/x-python",
   "name": "python",
   "nbconvert_exporter": "python",
   "pygments_lexer": "ipython3",
   "version": "3.8.12"
  }
 },
 "nbformat": 4,
 "nbformat_minor": 5
}
