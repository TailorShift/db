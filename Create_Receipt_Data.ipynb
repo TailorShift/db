{
 "cells": [
  {
   "cell_type": "code",
   "execution_count": 4,
   "id": "43ed72a5-af48-4408-ac3b-39ea2af1be16",
   "metadata": {
    "collapsed": true,
    "jupyter": {
     "outputs_hidden": true
    },
    "tags": []
   },
   "outputs": [
    {
     "name": "stdout",
     "output_type": "stream",
     "text": [
      "Collecting psycopg2\n",
      "  Using cached psycopg2-2.9.5-cp311-cp311-win_amd64.whl (1.2 MB)\n",
      "Installing collected packages: psycopg2\n",
      "Successfully installed psycopg2-2.9.5\n"
     ]
    },
    {
     "name": "stderr",
     "output_type": "stream",
     "text": [
      "\n",
      "[notice] A new release of pip is available: 23.0 -> 23.0.1\n",
      "[notice] To update, run: C:\\Users\\a764135\\AppData\\Local\\Programs\\Python\\Python311\\python.exe -m pip install --upgrade pip\n"
     ]
    }
   ],
   "source": [
    "import sys\n",
    "!{sys.executable} -m pip install psycopg2"
   ]
  },
  {
   "cell_type": "code",
   "execution_count": 10,
   "id": "203a6acf-4e95-4c57-8eba-4da40d9cdf1f",
   "metadata": {
    "collapsed": true,
    "jupyter": {
     "outputs_hidden": true
    },
    "tags": []
   },
   "outputs": [
    {
     "name": "stdout",
     "output_type": "stream",
     "text": [
      "Collecting sqlalchemy\n",
      "  Using cached SQLAlchemy-2.0.7-cp311-cp311-win_amd64.whl (2.0 MB)\n",
      "Requirement already satisfied: typing-extensions>=4.2.0 in c:\\users\\a764135\\appdata\\local\\programs\\python\\python311\\lib\\site-packages (from sqlalchemy) (4.5.0)\n",
      "Collecting greenlet!=0.4.17\n",
      "  Using cached greenlet-2.0.2-cp311-cp311-win_amd64.whl (192 kB)\n",
      "Installing collected packages: greenlet, sqlalchemy\n",
      "Successfully installed greenlet-2.0.2 sqlalchemy-2.0.7\n"
     ]
    },
    {
     "name": "stderr",
     "output_type": "stream",
     "text": [
      "\n",
      "[notice] A new release of pip is available: 23.0 -> 23.0.1\n",
      "[notice] To update, run: C:\\Users\\a764135\\AppData\\Local\\Programs\\Python\\Python311\\python.exe -m pip install --upgrade pip\n"
     ]
    }
   ],
   "source": [
    "!{sys.executable} -m pip install sqlalchemy"
   ]
  },
  {
   "cell_type": "code",
   "execution_count": 1,
   "id": "e2a57132-4f2a-4600-b53f-6314949c4183",
   "metadata": {
    "tags": []
   },
   "outputs": [],
   "source": [
    "import pandas as pd"
   ]
  },
  {
   "cell_type": "code",
   "execution_count": 2,
   "id": "56c2846a-28c1-4b37-8200-d7561b34a01a",
   "metadata": {
    "tags": []
   },
   "outputs": [],
   "source": [
    "import random"
   ]
  },
  {
   "cell_type": "code",
   "execution_count": 3,
   "id": "90b8d667-e3a0-4a53-b403-0401a83a54e8",
   "metadata": {
    "tags": []
   },
   "outputs": [],
   "source": [
    "import psycopg2 as pg\n",
    "import pandas.io.sql as psql"
   ]
  },
  {
   "cell_type": "code",
   "execution_count": 4,
   "id": "1526b6e2-e076-410d-b7f7-e50fe5b40d25",
   "metadata": {
    "tags": []
   },
   "outputs": [],
   "source": [
    "from sqlalchemy import create_engine, text"
   ]
  },
  {
   "cell_type": "code",
   "execution_count": 33,
   "id": "2e9ceaec-7b1c-42b1-964f-e60e33a19a0f",
   "metadata": {
    "tags": []
   },
   "outputs": [],
   "source": [
    "# connection = pg.connect(\"host=localhost dbname=pg-datacenter user=pg-datacenter password=Dua2h,i,JY>,,8)U<)aLIguz\") # psycopg is deprecated\n",
    "# dataframe = psql.read_sql('SELECT * FROM products;', connection)\n",
    "# dataframe"
   ]
  },
  {
   "cell_type": "code",
   "execution_count": 9,
   "id": "ac0ae4a5-2fcc-4bb1-8fea-4ba44a44e05e",
   "metadata": {
    "tags": []
   },
   "outputs": [],
   "source": [
    "engine = create_engine('postgresql://pg-datacenter:Dua2h,i,JY>,,8)U<)aLIguz@localhost:5432/pg-datacenter')"
   ]
  },
  {
   "cell_type": "code",
   "execution_count": 10,
   "id": "f0b42c3a-6345-4c59-9892-3084d0f7b99d",
   "metadata": {
    "tags": []
   },
   "outputs": [],
   "source": [
    "products_df = pd.DataFrame(engine.connect().execute(text('select * from products;')))"
   ]
  },
  {
   "cell_type": "code",
   "execution_count": 11,
   "id": "56f74212-7c0e-44cd-a1b9-c4303ef82084",
   "metadata": {
    "tags": []
   },
   "outputs": [
    {
     "data": {
      "text/html": [
       "<div>\n",
       "<style scoped>\n",
       "    .dataframe tbody tr th:only-of-type {\n",
       "        vertical-align: middle;\n",
       "    }\n",
       "\n",
       "    .dataframe tbody tr th {\n",
       "        vertical-align: top;\n",
       "    }\n",
       "\n",
       "    .dataframe thead th {\n",
       "        text-align: right;\n",
       "    }\n",
       "</style>\n",
       "<table border=\"1\" class=\"dataframe\">\n",
       "  <thead>\n",
       "    <tr style=\"text-align: right;\">\n",
       "      <th></th>\n",
       "      <th>id</th>\n",
       "      <th>manufacturer</th>\n",
       "      <th>name</th>\n",
       "      <th>code</th>\n",
       "      <th>colors</th>\n",
       "      <th>price</th>\n",
       "      <th>tax_rate</th>\n",
       "    </tr>\n",
       "  </thead>\n",
       "  <tbody>\n",
       "    <tr>\n",
       "      <th>0</th>\n",
       "      <td>1</td>\n",
       "      <td>Nike</td>\n",
       "      <td>Sneaker</td>\n",
       "      <td>1234567890</td>\n",
       "      <td>[Black, White]</td>\n",
       "      <td>99.99</td>\n",
       "      <td>19.00</td>\n",
       "    </tr>\n",
       "    <tr>\n",
       "      <th>1</th>\n",
       "      <td>2</td>\n",
       "      <td>Adidas</td>\n",
       "      <td>T-Shirt</td>\n",
       "      <td>2345678901</td>\n",
       "      <td>[Red]</td>\n",
       "      <td>19.99</td>\n",
       "      <td>19.00</td>\n",
       "    </tr>\n",
       "    <tr>\n",
       "      <th>2</th>\n",
       "      <td>3</td>\n",
       "      <td>Puma</td>\n",
       "      <td>Long pants</td>\n",
       "      <td>3456789012</td>\n",
       "      <td>[Navy, Blue]</td>\n",
       "      <td>49.99</td>\n",
       "      <td>19.00</td>\n",
       "    </tr>\n",
       "    <tr>\n",
       "      <th>3</th>\n",
       "      <td>4</td>\n",
       "      <td>The North Face</td>\n",
       "      <td>Winter jacket</td>\n",
       "      <td>4567890123</td>\n",
       "      <td>[Black, Grey]</td>\n",
       "      <td>199.99</td>\n",
       "      <td>19.00</td>\n",
       "    </tr>\n",
       "    <tr>\n",
       "      <th>4</th>\n",
       "      <td>5</td>\n",
       "      <td>Levis</td>\n",
       "      <td>Short pants</td>\n",
       "      <td>5678901234</td>\n",
       "      <td>[Light Blue, White]</td>\n",
       "      <td>39.99</td>\n",
       "      <td>19.00</td>\n",
       "    </tr>\n",
       "    <tr>\n",
       "      <th>...</th>\n",
       "      <td>...</td>\n",
       "      <td>...</td>\n",
       "      <td>...</td>\n",
       "      <td>...</td>\n",
       "      <td>...</td>\n",
       "      <td>...</td>\n",
       "      <td>...</td>\n",
       "    </tr>\n",
       "    <tr>\n",
       "      <th>168</th>\n",
       "      <td>169</td>\n",
       "      <td>Nike</td>\n",
       "      <td>Long pants</td>\n",
       "      <td>9012345678901</td>\n",
       "      <td>[Black]</td>\n",
       "      <td>99.99</td>\n",
       "      <td>19.00</td>\n",
       "    </tr>\n",
       "    <tr>\n",
       "      <th>169</th>\n",
       "      <td>170</td>\n",
       "      <td>Zara</td>\n",
       "      <td>Dress</td>\n",
       "      <td>123456789012</td>\n",
       "      <td>[Red]</td>\n",
       "      <td>69.99</td>\n",
       "      <td>19.00</td>\n",
       "    </tr>\n",
       "    <tr>\n",
       "      <th>170</th>\n",
       "      <td>171</td>\n",
       "      <td>Levis</td>\n",
       "      <td>Summer jacket</td>\n",
       "      <td>1234567890123</td>\n",
       "      <td>[Blue]</td>\n",
       "      <td>129.99</td>\n",
       "      <td>19.00</td>\n",
       "    </tr>\n",
       "    <tr>\n",
       "      <th>171</th>\n",
       "      <td>172</td>\n",
       "      <td>Adidas</td>\n",
       "      <td>Sneaker</td>\n",
       "      <td>2345678901234</td>\n",
       "      <td>[Black, White]</td>\n",
       "      <td>109.99</td>\n",
       "      <td>19.00</td>\n",
       "    </tr>\n",
       "    <tr>\n",
       "      <th>172</th>\n",
       "      <td>173</td>\n",
       "      <td>The North Face</td>\n",
       "      <td>Winter jacket</td>\n",
       "      <td>3456789012345</td>\n",
       "      <td>[White]</td>\n",
       "      <td>249.99</td>\n",
       "      <td>19.00</td>\n",
       "    </tr>\n",
       "  </tbody>\n",
       "</table>\n",
       "<p>173 rows × 7 columns</p>\n",
       "</div>"
      ],
      "text/plain": [
       "      id    manufacturer           name           code               colors  \\\n",
       "0      1            Nike        Sneaker     1234567890       [Black, White]   \n",
       "1      2          Adidas        T-Shirt     2345678901                [Red]   \n",
       "2      3            Puma     Long pants     3456789012         [Navy, Blue]   \n",
       "3      4  The North Face  Winter jacket     4567890123        [Black, Grey]   \n",
       "4      5           Levis    Short pants     5678901234  [Light Blue, White]   \n",
       "..   ...             ...            ...            ...                  ...   \n",
       "168  169            Nike     Long pants  9012345678901              [Black]   \n",
       "169  170            Zara          Dress   123456789012                [Red]   \n",
       "170  171           Levis  Summer jacket  1234567890123               [Blue]   \n",
       "171  172          Adidas        Sneaker  2345678901234       [Black, White]   \n",
       "172  173  The North Face  Winter jacket  3456789012345              [White]   \n",
       "\n",
       "      price tax_rate  \n",
       "0     99.99    19.00  \n",
       "1     19.99    19.00  \n",
       "2     49.99    19.00  \n",
       "3    199.99    19.00  \n",
       "4     39.99    19.00  \n",
       "..      ...      ...  \n",
       "168   99.99    19.00  \n",
       "169   69.99    19.00  \n",
       "170  129.99    19.00  \n",
       "171  109.99    19.00  \n",
       "172  249.99    19.00  \n",
       "\n",
       "[173 rows x 7 columns]"
      ]
     },
     "execution_count": 11,
     "metadata": {},
     "output_type": "execute_result"
    }
   ],
   "source": [
    "products_df"
   ]
  },
  {
   "cell_type": "code",
   "execution_count": 12,
   "id": "4ca6a7e4-6570-48a9-922b-687dae1b8e94",
   "metadata": {
    "tags": []
   },
   "outputs": [],
   "source": [
    "shops_df = pd.DataFrame(engine.connect().execute(text('select * from shops;')))"
   ]
  },
  {
   "cell_type": "code",
   "execution_count": 13,
   "id": "b99561f0-e75c-43a4-addc-2e21f27bb9a9",
   "metadata": {
    "tags": []
   },
   "outputs": [],
   "source": [
    "pos_devices_df = pd.DataFrame(engine.connect().execute(text('select * from pos_devices;')))"
   ]
  },
  {
   "cell_type": "code",
   "execution_count": 14,
   "id": "1a5f58b6-a4db-4538-8c3a-6693bb5ad91a",
   "metadata": {
    "tags": []
   },
   "outputs": [],
   "source": [
    "employees_df = pd.DataFrame(engine.connect().execute(text('select * from employees;')))"
   ]
  },
  {
   "cell_type": "code",
   "execution_count": 15,
   "id": "f1c836b6-78ff-480a-9826-41df3f029ac0",
   "metadata": {
    "tags": []
   },
   "outputs": [],
   "source": [
    "customers_df = pd.DataFrame(engine.connect().execute(text('select * from customers;')))"
   ]
  },
  {
   "cell_type": "code",
   "execution_count": 17,
   "id": "4f4f7bf6-8f37-45d5-9da9-9a0b04469cc2",
   "metadata": {
    "tags": []
   },
   "outputs": [],
   "source": [
    "def generate_data(num_rows):\n",
    "    data = []\n",
    "    positions = {}\n",
    "    receipt_id = 1\n",
    "    position = 1\n",
    "    \n",
    "    for i in range(num_rows):\n",
    "        product_id = random.choice(list(products_df.id.values))\n",
    "        current_df_row = products_df[products_df[\"id\"]==product_id]\n",
    "        size = random.choice(['S', 'M', 'L', 'XL'])\n",
    "        \n",
    "        quantity = random.choices(range(1, 6), weights=[70, 20, 5, 3, 2])[0]\n",
    "        discount = random.choices([0, 3, 5, 8, 10, 15, 20, 25, 30, 50], weights=[70, 5, 10, 2, 5, 1, 1, 4, 1, 1])[0]\n",
    "        \n",
    "        if discount > 0:\n",
    "            discount_reason = random.choice(['Seasonal Sale', 'End of Season Clearance', 'Customer Loyalty', 'Holiday Sale'])\n",
    "        else:\n",
    "            discount_reason = 'No discount'\n",
    "            \n",
    "        color = random.choice(list(current_df_row.colors.values)[0])\n",
    "        price = round(float(current_df_row[\"price\"].values[0]) * quantity, 2)\n",
    "        \n",
    "        data.append((receipt_id, position, product_id, size, color, quantity, price, discount, discount_reason, 19))\n",
    "        \n",
    "        if random.random() < 0.3:\n",
    "            receipt_id += 1\n",
    "            position = 1\n",
    "        else:\n",
    "            position+=1\n",
    "    return data"
   ]
  },
  {
   "cell_type": "code",
   "execution_count": 41,
   "id": "102d313a-10d1-4b2e-91dd-91e92c7061ea",
   "metadata": {
    "tags": []
   },
   "outputs": [],
   "source": [
    "all_inserts = generate_data(10000)"
   ]
  },
  {
   "cell_type": "code",
   "execution_count": 42,
   "id": "a5674afd-da50-47ac-95a5-6a897dc73ec9",
   "metadata": {
    "tags": []
   },
   "outputs": [],
   "source": [
    "lists = []\n",
    "for ins in all_inserts:\n",
    "    lists.append(list(ins))"
   ]
  },
  {
   "cell_type": "code",
   "execution_count": 43,
   "id": "ca053194-2b29-4e73-a1ed-bc98621512ef",
   "metadata": {
    "tags": []
   },
   "outputs": [],
   "source": [
    "insert_statement = \"INSERT INTO public.receipt_positions (receipt_id, position, product_id, size, color, quantity, price, discount, discount_reason, tax_rate) VALUES \\n \""
   ]
  },
  {
   "cell_type": "code",
   "execution_count": 44,
   "id": "f45fc06f-45bd-4e57-b5c4-49080f4bf1d2",
   "metadata": {
    "tags": []
   },
   "outputs": [],
   "source": [
    "for insert_row in all_inserts:\n",
    "    #print(str(insert_row))\n",
    "    insert_statement+=str(insert_row)+\",\"\n",
    "    insert_statement+= \"\\n \""
   ]
  },
  {
   "cell_type": "code",
   "execution_count": 55,
   "id": "e2e906e6-e135-450e-9549-b7ab34520e11",
   "metadata": {
    "tags": []
   },
   "outputs": [],
   "source": [
    "#print(insert_statement)"
   ]
  },
  {
   "cell_type": "code",
   "execution_count": 46,
   "id": "67eacdfc-2a20-4b12-bf3a-1d9e26db430b",
   "metadata": {
    "tags": []
   },
   "outputs": [],
   "source": [
    "cols = [\"receipt_id\", \"position\", \"product_id\", \"size\", \"color\", \"quantity\", \"price\", \"discount\", \"discount_reason\", \"tax_rate\"]"
   ]
  },
  {
   "cell_type": "code",
   "execution_count": 47,
   "id": "ba1071c2-9141-41af-98e9-02b165eeba00",
   "metadata": {
    "tags": []
   },
   "outputs": [],
   "source": [
    "receipt_positions = pd.DataFrame(lists, columns = cols)"
   ]
  },
  {
   "cell_type": "code",
   "execution_count": 48,
   "id": "7523f1b2-9b24-432b-9dd8-d7aa9cb2e3c8",
   "metadata": {
    "tags": []
   },
   "outputs": [
    {
     "data": {
      "text/html": [
       "<div>\n",
       "<style scoped>\n",
       "    .dataframe tbody tr th:only-of-type {\n",
       "        vertical-align: middle;\n",
       "    }\n",
       "\n",
       "    .dataframe tbody tr th {\n",
       "        vertical-align: top;\n",
       "    }\n",
       "\n",
       "    .dataframe thead th {\n",
       "        text-align: right;\n",
       "    }\n",
       "</style>\n",
       "<table border=\"1\" class=\"dataframe\">\n",
       "  <thead>\n",
       "    <tr style=\"text-align: right;\">\n",
       "      <th></th>\n",
       "      <th>receipt_id</th>\n",
       "      <th>position</th>\n",
       "      <th>product_id</th>\n",
       "      <th>size</th>\n",
       "      <th>color</th>\n",
       "      <th>quantity</th>\n",
       "      <th>price</th>\n",
       "      <th>discount</th>\n",
       "      <th>discount_reason</th>\n",
       "      <th>tax_rate</th>\n",
       "    </tr>\n",
       "  </thead>\n",
       "  <tbody>\n",
       "    <tr>\n",
       "      <th>0</th>\n",
       "      <td>1</td>\n",
       "      <td>1</td>\n",
       "      <td>20</td>\n",
       "      <td>S</td>\n",
       "      <td>Red</td>\n",
       "      <td>1</td>\n",
       "      <td>15.99</td>\n",
       "      <td>0</td>\n",
       "      <td>No discount</td>\n",
       "      <td>19</td>\n",
       "    </tr>\n",
       "    <tr>\n",
       "      <th>1</th>\n",
       "      <td>2</td>\n",
       "      <td>1</td>\n",
       "      <td>34</td>\n",
       "      <td>M</td>\n",
       "      <td>Navy</td>\n",
       "      <td>1</td>\n",
       "      <td>69.99</td>\n",
       "      <td>0</td>\n",
       "      <td>No discount</td>\n",
       "      <td>19</td>\n",
       "    </tr>\n",
       "    <tr>\n",
       "      <th>2</th>\n",
       "      <td>2</td>\n",
       "      <td>2</td>\n",
       "      <td>61</td>\n",
       "      <td>M</td>\n",
       "      <td>Red</td>\n",
       "      <td>2</td>\n",
       "      <td>139.98</td>\n",
       "      <td>0</td>\n",
       "      <td>No discount</td>\n",
       "      <td>19</td>\n",
       "    </tr>\n",
       "    <tr>\n",
       "      <th>3</th>\n",
       "      <td>2</td>\n",
       "      <td>3</td>\n",
       "      <td>51</td>\n",
       "      <td>XL</td>\n",
       "      <td>Navy Blue</td>\n",
       "      <td>1</td>\n",
       "      <td>49.99</td>\n",
       "      <td>0</td>\n",
       "      <td>No discount</td>\n",
       "      <td>19</td>\n",
       "    </tr>\n",
       "    <tr>\n",
       "      <th>4</th>\n",
       "      <td>2</td>\n",
       "      <td>4</td>\n",
       "      <td>139</td>\n",
       "      <td>S</td>\n",
       "      <td>Blue</td>\n",
       "      <td>1</td>\n",
       "      <td>169.99</td>\n",
       "      <td>0</td>\n",
       "      <td>No discount</td>\n",
       "      <td>19</td>\n",
       "    </tr>\n",
       "    <tr>\n",
       "      <th>...</th>\n",
       "      <td>...</td>\n",
       "      <td>...</td>\n",
       "      <td>...</td>\n",
       "      <td>...</td>\n",
       "      <td>...</td>\n",
       "      <td>...</td>\n",
       "      <td>...</td>\n",
       "      <td>...</td>\n",
       "      <td>...</td>\n",
       "      <td>...</td>\n",
       "    </tr>\n",
       "    <tr>\n",
       "      <th>9995</th>\n",
       "      <td>3006</td>\n",
       "      <td>1</td>\n",
       "      <td>5</td>\n",
       "      <td>L</td>\n",
       "      <td>Light Blue</td>\n",
       "      <td>1</td>\n",
       "      <td>39.99</td>\n",
       "      <td>0</td>\n",
       "      <td>No discount</td>\n",
       "      <td>19</td>\n",
       "    </tr>\n",
       "    <tr>\n",
       "      <th>9996</th>\n",
       "      <td>3006</td>\n",
       "      <td>2</td>\n",
       "      <td>140</td>\n",
       "      <td>XL</td>\n",
       "      <td>White</td>\n",
       "      <td>1</td>\n",
       "      <td>99.99</td>\n",
       "      <td>0</td>\n",
       "      <td>No discount</td>\n",
       "      <td>19</td>\n",
       "    </tr>\n",
       "    <tr>\n",
       "      <th>9997</th>\n",
       "      <td>3006</td>\n",
       "      <td>3</td>\n",
       "      <td>110</td>\n",
       "      <td>XL</td>\n",
       "      <td>Green</td>\n",
       "      <td>1</td>\n",
       "      <td>149.99</td>\n",
       "      <td>0</td>\n",
       "      <td>No discount</td>\n",
       "      <td>19</td>\n",
       "    </tr>\n",
       "    <tr>\n",
       "      <th>9998</th>\n",
       "      <td>3006</td>\n",
       "      <td>4</td>\n",
       "      <td>173</td>\n",
       "      <td>M</td>\n",
       "      <td>White</td>\n",
       "      <td>1</td>\n",
       "      <td>249.99</td>\n",
       "      <td>25</td>\n",
       "      <td>End of Season Clearance</td>\n",
       "      <td>19</td>\n",
       "    </tr>\n",
       "    <tr>\n",
       "      <th>9999</th>\n",
       "      <td>3006</td>\n",
       "      <td>5</td>\n",
       "      <td>90</td>\n",
       "      <td>M</td>\n",
       "      <td>Green</td>\n",
       "      <td>1</td>\n",
       "      <td>69.99</td>\n",
       "      <td>0</td>\n",
       "      <td>No discount</td>\n",
       "      <td>19</td>\n",
       "    </tr>\n",
       "  </tbody>\n",
       "</table>\n",
       "<p>10000 rows × 10 columns</p>\n",
       "</div>"
      ],
      "text/plain": [
       "      receipt_id  position  product_id size       color  quantity   price  \\\n",
       "0              1         1          20    S         Red         1   15.99   \n",
       "1              2         1          34    M        Navy         1   69.99   \n",
       "2              2         2          61    M         Red         2  139.98   \n",
       "3              2         3          51   XL   Navy Blue         1   49.99   \n",
       "4              2         4         139    S        Blue         1  169.99   \n",
       "...          ...       ...         ...  ...         ...       ...     ...   \n",
       "9995        3006         1           5    L  Light Blue         1   39.99   \n",
       "9996        3006         2         140   XL       White         1   99.99   \n",
       "9997        3006         3         110   XL       Green         1  149.99   \n",
       "9998        3006         4         173    M       White         1  249.99   \n",
       "9999        3006         5          90    M       Green         1   69.99   \n",
       "\n",
       "      discount          discount_reason  tax_rate  \n",
       "0            0              No discount        19  \n",
       "1            0              No discount        19  \n",
       "2            0              No discount        19  \n",
       "3            0              No discount        19  \n",
       "4            0              No discount        19  \n",
       "...        ...                      ...       ...  \n",
       "9995         0              No discount        19  \n",
       "9996         0              No discount        19  \n",
       "9997         0              No discount        19  \n",
       "9998        25  End of Season Clearance        19  \n",
       "9999         0              No discount        19  \n",
       "\n",
       "[10000 rows x 10 columns]"
      ]
     },
     "execution_count": 48,
     "metadata": {},
     "output_type": "execute_result"
    }
   ],
   "source": [
    "receipt_positions"
   ]
  },
  {
   "cell_type": "code",
   "execution_count": 50,
   "id": "4ff4573c-1822-415a-9188-0d1743e127e6",
   "metadata": {
    "tags": []
   },
   "outputs": [],
   "source": [
    "import random\n",
    "import datetime\n",
    "\n",
    "all_receipt_inserts = []\n",
    "\n",
    "start_date = datetime.datetime(2023, 1, 1, 9)\n",
    "end_date = datetime.datetime(2023, 3, 31, 18)\n",
    "\n",
    "# Define weights for different days and hours\n",
    "day_weights = {\n",
    "    0: 10, # Monday\n",
    "    1: 10, # Tuesday\n",
    "    2: 10, # Wednesday\n",
    "    3: 10, # Thursday\n",
    "    4: 20, # Friday\n",
    "    5: 35, # Saturday\n",
    "}\n",
    "\n",
    "hour_weights_week = {\n",
    "    11: 1,   # 11am\n",
    "    12: 2,   # 12pm\n",
    "    13: 1,   # 1pm\n",
    "    14: 2,   # 2pm\n",
    "    15: 3,   # 3pm\n",
    "    16: 3, # 4pm\n",
    "    17: 2, # 5pm\n",
    "}\n",
    "\n",
    "hour_weights_sat = {\n",
    "    9: 1, #9am\n",
    "    10: 1, #10am\n",
    "    11: 1,   # 11am\n",
    "    12: 3,   # 12pm\n",
    "    13: 4,   # 1pm\n",
    "    14: 3,   # 2pm\n",
    "    15: 3,   # 3pm\n",
    "    16: 2, # 4pm\n",
    "    17: 2, # 5pm\n",
    "}\n",
    "\n",
    "# Define the number of rows to generate\n",
    "num_rows = max(list(receipt_positions.receipt_id.values))+1\n",
    "\n",
    "# Define the range of values for each column\n",
    "shop_ids = list(shops_df[\"id\"].values)\n",
    "pos_device_ids = list(pos_devices_df[\"id\"].values)\n",
    "customer_ids = list(customers_df[\"id\"].values)\n",
    "employee_ids = list(employees_df[\"id\"].values)\n",
    "delivery_shop_ids = [None, 1, 2, 3]\n",
    "\n",
    "#                      [11,12,13,14,15,16,17\n",
    "weekday_hour_weights = [1, 2, 1, 2, 3, 3, 2]\n",
    "#                       [9,10,11,12,13,14,15,16,17]\n",
    "weekend_hour_weights = [1, 1, 1, 3, 4, 3, 3, 2, 2]\n",
    "\n",
    "def generate_timestamp():\n",
    "    \n",
    "    weekday = random.choices(range(6), weights=day_weights.values())[0]\n",
    "\n",
    "    # generate a random date between the start and end dates\n",
    "    random_date = start_date + datetime.timedelta(days=random.randint(0, (end_date - start_date).days))\n",
    "\n",
    "    # if the random date is not the correct weekday, adjust it accordingly\n",
    "    while random_date.weekday() != weekday:\n",
    "        random_date += datetime.timedelta(days=1)\n",
    "        \n",
    "    random_date_splitted = str(random_date).split(\" \")[0].split(\"-\")\n",
    "    year = int(random_date_splitted[0])\n",
    "    month = int(random_date_splitted[1])\n",
    "    day = int(random_date_splitted[2])\n",
    "\n",
    "    if weekday == 5: # Saturday\n",
    "        hour = random.choices(\n",
    "            population=list(hour_weights_sat.keys()),\n",
    "            weights=list(hour_weights_sat.values())\n",
    "        )[0]\n",
    "    else:\n",
    "        hour = random.choices(\n",
    "            population=list(hour_weights_week.keys()),\n",
    "            weights=list(hour_weights_week.values())\n",
    "        )[0]\n",
    "\n",
    "    # Choose random minute and second\n",
    "    minute = random.randint(0, 59)\n",
    "    second = random.randint(0, 59)\n",
    "        \n",
    "    return datetime.datetime(year, month, day, hour, minute, second)\n",
    "\n",
    "rows = []\n",
    "for i in range(1,num_rows):\n",
    "    shop_id = random.choice(shop_ids)\n",
    "    pos_device_id = random.choice(pos_device_ids)\n",
    "    customer_id = random.choice(customer_ids)\n",
    "    employee_id = random.choice(employee_ids)\n",
    "    delivery_shop_id = random.choices(delivery_shop_ids, weights=[90, 5, 2.5, 2.5])[0] # 90% chance of 0, 5% chance of 1, 5% chance of 2 or 3\n",
    "    \n",
    "    created_at = generate_timestamp()\n",
    "    \n",
    "    current_df = receipt_positions[receipt_positions[\"receipt_id\"]==i]\n",
    "    \n",
    "    amount_total = 0\n",
    "    discount_total = 0\n",
    "    tax_total = 0\n",
    "    \n",
    "    for index, row in current_df.iterrows():\n",
    "        curr_price = row[\"price\"]\n",
    "        curr_discount = row[\"discount\"]\n",
    "        \n",
    "        if curr_discount > 0:\n",
    "            factor = curr_discount/100\n",
    "            reduction = 1-factor\n",
    "            \n",
    "            discounted_price = curr_price * reduction\n",
    "            given_discount = curr_price - discounted_price\n",
    "        else:\n",
    "            discounted_price = curr_price\n",
    "            given_discount = 0\n",
    "            \n",
    "        current_tax = discounted_price * (row[\"tax_rate\"] / 100)\n",
    "        \n",
    "        amount_total += discounted_price\n",
    "        discount_total += given_discount\n",
    "        tax_total += current_tax    \n",
    "    \n",
    "    row = (i, shop_id, pos_device_id, customer_id, created_at.strftime(\"%Y-%m-%d %H:%M:%S\"), round(discount_total,2), round(tax_total,2), round(amount_total,2), employee_id, delivery_shop_id)\n",
    "    rows.append(row)\n",
    "\n",
    "# Print the rows\n",
    "for row in rows:\n",
    "    all_receipt_inserts.append(row)"
   ]
  },
  {
   "cell_type": "code",
   "execution_count": null,
   "id": "1a1fbb70-364f-4d7c-b265-719ecb26007f",
   "metadata": {},
   "outputs": [],
   "source": []
  },
  {
   "cell_type": "markdown",
   "id": "f5d28da0-7c66-41df-a548-17118c724a5e",
   "metadata": {},
   "source": [
    "## create insert string"
   ]
  },
  {
   "cell_type": "code",
   "execution_count": 53,
   "id": "5efc8dda-16bc-4a3b-baca-af8ce1526040",
   "metadata": {
    "tags": []
   },
   "outputs": [],
   "source": [
    "insert_statement_receipts = \"INSERT INTO public.receipts (id, shop_id, pos_device_id, customer_id, created_at, discount_total, tax_total, amount_total, employee_id, delivery_shop_id) VALUES \\n \"\n",
    "\n",
    "for insert_row_receipts in all_receipt_inserts:\n",
    "    #print(str(insert_row))\n",
    "    insert_statement_receipts+=str(insert_row_receipts)+\",\"\n",
    "    insert_statement_receipts+= \"\\n \"\n",
    "    \n",
    "insert_statement_receipts = insert_statement_receipts.replace(\"None\",\"NULL\")\n",
    "\n",
    "#print(insert_statement_receipts)"
   ]
  },
  {
   "cell_type": "markdown",
   "id": "d335d301-261d-4b9b-aa83-26b0f8ded17b",
   "metadata": {},
   "source": [
    "## create df"
   ]
  },
  {
   "cell_type": "code",
   "execution_count": 39,
   "id": "7e7c6613-5c94-4da6-9d13-7d9d00532e72",
   "metadata": {
    "tags": []
   },
   "outputs": [
    {
     "data": {
      "text/html": [
       "<div>\n",
       "<style scoped>\n",
       "    .dataframe tbody tr th:only-of-type {\n",
       "        vertical-align: middle;\n",
       "    }\n",
       "\n",
       "    .dataframe tbody tr th {\n",
       "        vertical-align: top;\n",
       "    }\n",
       "\n",
       "    .dataframe thead th {\n",
       "        text-align: right;\n",
       "    }\n",
       "</style>\n",
       "<table border=\"1\" class=\"dataframe\">\n",
       "  <thead>\n",
       "    <tr style=\"text-align: right;\">\n",
       "      <th></th>\n",
       "      <th>id</th>\n",
       "      <th>shop_id</th>\n",
       "      <th>pos_device_id</th>\n",
       "      <th>customer_id</th>\n",
       "      <th>created_at</th>\n",
       "      <th>discount_total</th>\n",
       "      <th>tax_total</th>\n",
       "      <th>amount_total</th>\n",
       "      <th>employee_id</th>\n",
       "      <th>delivery_shop_id</th>\n",
       "    </tr>\n",
       "  </thead>\n",
       "  <tbody>\n",
       "    <tr>\n",
       "      <th>0</th>\n",
       "      <td>1</td>\n",
       "      <td>1</td>\n",
       "      <td>3</td>\n",
       "      <td>66</td>\n",
       "      <td>2023-01-13 13:58:37</td>\n",
       "      <td>0.0</td>\n",
       "      <td>7.60</td>\n",
       "      <td>39.99</td>\n",
       "      <td>29</td>\n",
       "      <td>0</td>\n",
       "    </tr>\n",
       "    <tr>\n",
       "      <th>1</th>\n",
       "      <td>2</td>\n",
       "      <td>1</td>\n",
       "      <td>2</td>\n",
       "      <td>132</td>\n",
       "      <td>2023-01-12 12:28:05</td>\n",
       "      <td>2.1</td>\n",
       "      <td>58.49</td>\n",
       "      <td>307.86</td>\n",
       "      <td>21</td>\n",
       "      <td>3</td>\n",
       "    </tr>\n",
       "    <tr>\n",
       "      <th>2</th>\n",
       "      <td>3</td>\n",
       "      <td>2</td>\n",
       "      <td>1</td>\n",
       "      <td>237</td>\n",
       "      <td>2023-03-18 17:23:30</td>\n",
       "      <td>0.0</td>\n",
       "      <td>26.60</td>\n",
       "      <td>139.98</td>\n",
       "      <td>25</td>\n",
       "      <td>0</td>\n",
       "    </tr>\n",
       "    <tr>\n",
       "      <th>3</th>\n",
       "      <td>4</td>\n",
       "      <td>3</td>\n",
       "      <td>3</td>\n",
       "      <td>277</td>\n",
       "      <td>2023-02-04 12:21:06</td>\n",
       "      <td>8.3</td>\n",
       "      <td>29.77</td>\n",
       "      <td>156.67</td>\n",
       "      <td>27</td>\n",
       "      <td>0</td>\n",
       "    </tr>\n",
       "    <tr>\n",
       "      <th>4</th>\n",
       "      <td>5</td>\n",
       "      <td>3</td>\n",
       "      <td>3</td>\n",
       "      <td>248</td>\n",
       "      <td>2023-03-24 11:03:02</td>\n",
       "      <td>0.0</td>\n",
       "      <td>79.79</td>\n",
       "      <td>419.94</td>\n",
       "      <td>19</td>\n",
       "      <td>0</td>\n",
       "    </tr>\n",
       "    <tr>\n",
       "      <th>...</th>\n",
       "      <td>...</td>\n",
       "      <td>...</td>\n",
       "      <td>...</td>\n",
       "      <td>...</td>\n",
       "      <td>...</td>\n",
       "      <td>...</td>\n",
       "      <td>...</td>\n",
       "      <td>...</td>\n",
       "      <td>...</td>\n",
       "      <td>...</td>\n",
       "    </tr>\n",
       "    <tr>\n",
       "      <th>1528</th>\n",
       "      <td>1529</td>\n",
       "      <td>3</td>\n",
       "      <td>3</td>\n",
       "      <td>244</td>\n",
       "      <td>2023-02-18 13:08:22</td>\n",
       "      <td>0.0</td>\n",
       "      <td>26.60</td>\n",
       "      <td>139.98</td>\n",
       "      <td>28</td>\n",
       "      <td>0</td>\n",
       "    </tr>\n",
       "    <tr>\n",
       "      <th>1529</th>\n",
       "      <td>1530</td>\n",
       "      <td>2</td>\n",
       "      <td>3</td>\n",
       "      <td>180</td>\n",
       "      <td>2023-03-28 12:16:12</td>\n",
       "      <td>0.0</td>\n",
       "      <td>117.79</td>\n",
       "      <td>619.96</td>\n",
       "      <td>7</td>\n",
       "      <td>0</td>\n",
       "    </tr>\n",
       "    <tr>\n",
       "      <th>1530</th>\n",
       "      <td>1531</td>\n",
       "      <td>3</td>\n",
       "      <td>1</td>\n",
       "      <td>267</td>\n",
       "      <td>2023-02-09 17:07:19</td>\n",
       "      <td>0.0</td>\n",
       "      <td>55.10</td>\n",
       "      <td>289.98</td>\n",
       "      <td>7</td>\n",
       "      <td>0</td>\n",
       "    </tr>\n",
       "    <tr>\n",
       "      <th>1531</th>\n",
       "      <td>1532</td>\n",
       "      <td>3</td>\n",
       "      <td>2</td>\n",
       "      <td>74</td>\n",
       "      <td>2023-01-21 14:26:14</td>\n",
       "      <td>25.0</td>\n",
       "      <td>31.34</td>\n",
       "      <td>164.96</td>\n",
       "      <td>9</td>\n",
       "      <td>0</td>\n",
       "    </tr>\n",
       "    <tr>\n",
       "      <th>1532</th>\n",
       "      <td>1533</td>\n",
       "      <td>3</td>\n",
       "      <td>1</td>\n",
       "      <td>268</td>\n",
       "      <td>2023-02-02 12:08:47</td>\n",
       "      <td>64.5</td>\n",
       "      <td>181.53</td>\n",
       "      <td>955.41</td>\n",
       "      <td>22</td>\n",
       "      <td>0</td>\n",
       "    </tr>\n",
       "  </tbody>\n",
       "</table>\n",
       "<p>1533 rows × 10 columns</p>\n",
       "</div>"
      ],
      "text/plain": [
       "        id  shop_id  pos_device_id  customer_id           created_at  \\\n",
       "0        1        1              3           66  2023-01-13 13:58:37   \n",
       "1        2        1              2          132  2023-01-12 12:28:05   \n",
       "2        3        2              1          237  2023-03-18 17:23:30   \n",
       "3        4        3              3          277  2023-02-04 12:21:06   \n",
       "4        5        3              3          248  2023-03-24 11:03:02   \n",
       "...    ...      ...            ...          ...                  ...   \n",
       "1528  1529        3              3          244  2023-02-18 13:08:22   \n",
       "1529  1530        2              3          180  2023-03-28 12:16:12   \n",
       "1530  1531        3              1          267  2023-02-09 17:07:19   \n",
       "1531  1532        3              2           74  2023-01-21 14:26:14   \n",
       "1532  1533        3              1          268  2023-02-02 12:08:47   \n",
       "\n",
       "      discount_total  tax_total  amount_total  employee_id  delivery_shop_id  \n",
       "0                0.0       7.60         39.99           29                 0  \n",
       "1                2.1      58.49        307.86           21                 3  \n",
       "2                0.0      26.60        139.98           25                 0  \n",
       "3                8.3      29.77        156.67           27                 0  \n",
       "4                0.0      79.79        419.94           19                 0  \n",
       "...              ...        ...           ...          ...               ...  \n",
       "1528             0.0      26.60        139.98           28                 0  \n",
       "1529             0.0     117.79        619.96            7                 0  \n",
       "1530             0.0      55.10        289.98            7                 0  \n",
       "1531            25.0      31.34        164.96            9                 0  \n",
       "1532            64.5     181.53        955.41           22                 0  \n",
       "\n",
       "[1533 rows x 10 columns]"
      ]
     },
     "execution_count": 39,
     "metadata": {},
     "output_type": "execute_result"
    }
   ],
   "source": [
    "lists_receipts = []\n",
    "for ins in all_receipt_inserts:\n",
    "    lists_receipts.append(list(ins))\n",
    "    \n",
    "cols = [\"id\", \"shop_id\", \"pos_device_id\", \"customer_id\", \"created_at\", \"discount_total\", \"tax_total\", \"amount_total\", \"employee_id\", \"delivery_shop_id\"]\n",
    "\n",
    "receipts = pd.DataFrame(lists_receipts, columns = cols)\n",
    "receipts"
   ]
  },
  {
   "cell_type": "code",
   "execution_count": null,
   "id": "af50cd10-9834-49ff-abb0-269211cd2699",
   "metadata": {},
   "outputs": [],
   "source": []
  },
  {
   "cell_type": "markdown",
   "id": "62ac555f-2b40-4d4d-94b6-9b12c2133fed",
   "metadata": {},
   "source": [
    "# Create Insert String with ChatGPT input"
   ]
  },
  {
   "cell_type": "code",
   "execution_count": 59,
   "id": "f6496273-4b42-456e-9f5e-4fba4145cfb6",
   "metadata": {
    "tags": []
   },
   "outputs": [],
   "source": [
    "# INSERT INTO public.receipt_positions (receipt_id, position, product_id, size, color, quantity, price, discount, discount_reason, tax_rate)\n",
    "# VALUES \n",
    "rows = \"\"\"(1, 1, 10, 'M', 'NO_COLOR', 2, 'NO_PRICE', 0, NULL, 19),(1, 2, 45, 'L', 'NO_COLOR', 1, 'NO_PRICE', 0, NULL, 19),(2, 1, 88, 'S', 'NO_COLOR', 1, 'NO_PRICE', 5, 'Seasonal Sale', 19),(3, 1, 32, 'XL', 'NO_COLOR', 1, 'NO_PRICE', 0, NULL, 19),(3, 2, 10, 'M', 'NO_COLOR', 1, 'NO_PRICE', 0, NULL, 19),(3, 3, 55, 'S', 'NO_COLOR', 1, 'NO_PRICE', 0, NULL, 19),(4, 1, 20, 'L', 'NO_COLOR', 3, 'NO_PRICE', 0, NULL, 19),(4, 2, 50, 'M', 'NO_COLOR', 1, 'NO_PRICE', 0, NULL, 19),(4, 3, 75, 'S', 'NO_COLOR', 2, 'NO_PRICE', 0, NULL, 19),(4, 4, 90, 'XL', 'NO_COLOR', 1, 'NO_PRICE', 0, NULL, 19),(5, 1, 60, 'M', 'NO_COLOR', 1, 'NO_PRICE', 0, NULL, 19),(5, 2, 80, 'L', 'NO_COLOR', 1, 'NO_PRICE', 0, NULL, 19),(6, 1, 15, 'S', 'NO_COLOR', 1, 'NO_PRICE', 10, 'Customer Loyalty', 19),(7, 1, 95, 'XL', 'NO_COLOR', 1, 'NO_PRICE', 0, NULL, 19),(8, 1, 65, 'M', 'NO_COLOR', 2, 'NO_PRICE', 0, NULL, 19),(8, 2, 40, 'L', 'NO_COLOR', 1, 'NO_PRICE', 0, NULL, 19),(9, 1, 5, 'S', 'NO_COLOR', 1, 'NO_PRICE', 0, NULL, 19),(10, 1, 70, 'L', 'NO_COLOR', 1, 'NO_PRICE', 0, NULL, 19),(11, 1, 25, 'M', 'NO_COLOR', 1, 'NO_PRICE', 0, NULL, 19),(11, 2, 35, 'S', 'NO_COLOR', 1, 'NO_PRICE', 0, NULL, 19);\"\"\""
   ]
  },
  {
   "cell_type": "code",
   "execution_count": 125,
   "id": "89a1b28c-da98-4487-aa5d-f8b59a4cad82",
   "metadata": {
    "tags": []
   },
   "outputs": [],
   "source": [
    "insert_statement = \"INSERT INTO public.receipt_positions (receipt_id, position, product_id, size, color, quantity, price, discount, discount_reason, tax_rate) VALUES \""
   ]
  },
  {
   "cell_type": "code",
   "execution_count": 126,
   "id": "4173ae9f-3a13-4467-80b9-392b3dd976e2",
   "metadata": {
    "tags": []
   },
   "outputs": [],
   "source": [
    "last_lower = 0\n",
    "for i in range(1,21):\n",
    "    current_row = rows.split(\",\")[last_lower:i*10]\n",
    "    current_df_row = products_df[products_df[\"id\"]==int(current_row[2].replace(\" \",\"\"))]\n",
    "    current_price = current_df_row[\"price\"].values[0]\n",
    "    current_colors = current_df_row[\"colors\"].values[0]\n",
    "    random_color = random.choice(current_colors)\n",
    "    \n",
    "    insert_string = \"\"\n",
    "    insert_string = f\"{current_row[0]},{current_row[1]},{current_row[2]},{current_row[3]},{random_color},{current_row[5]},{int(current_row[5])*current_price},{current_row[7]},{current_row[8]},{current_row[9]},\\n\"\n",
    "    \n",
    "    insert_statement = insert_statement + insert_string\n",
    "    \n",
    "    last_lower = i*10"
   ]
  },
  {
   "cell_type": "code",
   "execution_count": 127,
   "id": "cb5d1710-183e-4feb-b7b4-679404b17761",
   "metadata": {
    "tags": []
   },
   "outputs": [],
   "source": [
    "insert_statement = insert_statement[:-1]"
   ]
  },
  {
   "cell_type": "code",
   "execution_count": 128,
   "id": "5685ce11-1279-4611-b949-f69e39afd7f4",
   "metadata": {
    "tags": []
   },
   "outputs": [
    {
     "data": {
      "text/plain": [
       "\"INSERT INTO public.receipt_positions (receipt_id, position, product_id, size, color, quantity, price, discount, discount_reason, tax_rate) VALUES (1, 1, 10, 'M',Red, 2,299.98, 0, NULL, 19),\\n(1, 2, 45, 'L',White, 1,89.99, 0, NULL, 19),\\n(2, 1, 88, 'S',White, 1,99.99, 5, 'Seasonal Sale', 19),\\n(3, 1, 32, 'XL',Black, 1,39.99, 0, NULL, 19),\\n(3, 2, 10, 'M',White, 1,149.99, 0, NULL, 19),\\n(3, 3, 55, 'S',Red, 1,149.99, 0, NULL, 19),\\n(4, 1, 20, 'L',Red, 3,47.97, 0, NULL, 19),\\n(4, 2, 50, 'M',Red, 1,19.99, 0, NULL, 19),\\n(4, 3, 75, 'S',White, 2,79.98, 0, NULL, 19),\\n(4, 4, 90, 'XL',Green, 1,69.99, 0, NULL, 19),\\n(5, 1, 60, 'M',White, 1,189.99, 0, NULL, 19),\\n(5, 2, 80, 'L',Black, 1,79.99, 0, NULL, 19),\\n(6, 1, 15, 'S',Blue, 1,229.99, 10, 'Customer Loyalty', 19),\\n(7, 1, 95, 'XL',Black, 1,119.99, 0, NULL, 19),\\n(8, 1, 65, 'M',White, 2,49.98, 0, NULL, 19),\\n(8, 2, 40, 'L',Red, 1,119.99, 0, NULL, 19),\\n(9, 1, 5, 'S',Light Blue, 1,39.99, 0, NULL, 19),\\n(10, 1, 70, 'L',Black, 1,99.99, 0, NULL, 19),\\n(11, 1, 25, 'M',Red, 1,189.99, 0, NULL, 19),\\n(11, 2, 35, 'S',Black, 1,109.99, 0, NULL, 19);,\""
      ]
     },
     "execution_count": 128,
     "metadata": {},
     "output_type": "execute_result"
    }
   ],
   "source": [
    "insert_statement"
   ]
  },
  {
   "cell_type": "code",
   "execution_count": null,
   "id": "f88eebc9-f394-4470-9864-2faba387a0f3",
   "metadata": {},
   "outputs": [],
   "source": []
  },
  {
   "cell_type": "code",
   "execution_count": null,
   "id": "23da1291-0519-4675-aff0-7b79e6e991e0",
   "metadata": {},
   "outputs": [],
   "source": []
  }
 ],
 "metadata": {
  "kernelspec": {
   "display_name": "Python 3 (ipykernel)",
   "language": "python",
   "name": "python3"
  },
  "language_info": {
   "codemirror_mode": {
    "name": "ipython",
    "version": 3
   },
   "file_extension": ".py",
   "mimetype": "text/x-python",
   "name": "python",
   "nbconvert_exporter": "python",
   "pygments_lexer": "ipython3",
   "version": "3.11.1"
  }
 },
 "nbformat": 4,
 "nbformat_minor": 5
}
